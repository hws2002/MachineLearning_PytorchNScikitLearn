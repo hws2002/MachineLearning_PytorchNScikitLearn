{
  "nbformat": 4,
  "nbformat_minor": 0,
  "metadata": {
    "colab": {
      "provenance": [],
      "authorship_tag": "ABX9TyNGWASCXn76wIHvoWMDaRUX",
      "include_colab_link": true
    },
    "kernelspec": {
      "name": "python3",
      "display_name": "Python 3"
    },
    "language_info": {
      "name": "python"
    }
  },
  "cells": [
    {
      "cell_type": "markdown",
      "metadata": {
        "id": "view-in-github",
        "colab_type": "text"
      },
      "source": [
        "<a href=\"https://colab.research.google.com/github/hws2002/MachineLearning_PytorchNScikitLearn/blob/master/chapter13/chapter13_6_Project1_fuel_economy.ipynb\" target=\"_parent\"><img src=\"https://colab.research.google.com/assets/colab-badge.svg\" alt=\"Open In Colab\"/></a>"
      ]
    },
    {
      "cell_type": "markdown",
      "source": [
        "# 13.6.1 특성 열 사용\n",
        "https://archive.ics.uci.edu/dataset/9/auto+mpg 데이터를 사용해서 자동차의 연료 효율성을 예측하는 프로젝트를 진행해보자(머신 러닝 벤치마크 데이터셋임)  \n",
        "먼저 데이터셋을 로드한 후, 불완전한 행을 삭제하고, 훈련 데이터셋과 테스트 데이터셋으로 나누고, 연속적인 특성에 표준화를적용하는 것과 같은 필수적인 전처리 단계를 수행해 보자"
      ],
      "metadata": {
        "id": "l2Qm8wIGHuxy"
      }
    },
    {
      "cell_type": "code",
      "source": [
        "import pandas as pd\n",
        "import tensorflow as tf\n",
        "dataset_path = tf.keras.utils.get_file(\n",
        "    origin = \"https://archive.ics.uci.edu/static/public/9/auto+mpg.zip\",\n",
        "    extract = True\n",
        ")\n",
        "url = dataset_path.replace(\"auto+mpg.zip\", \"auto-mpg.data\")\n",
        "column_names = ['MPG', 'Cylinders','Displacement','Horsepower',\n",
        "                'Weight', 'Acceleration','Model Year','Origin']\n",
        "df = pd.read_csv(url, names = column_names,\n",
        "                 na_values=\"?\", comment='\\t',\n",
        "                 sep=\" \", skipinitialspace=True)\n",
        "print(df.head())"
      ],
      "metadata": {
        "id": "I0TuBgqZJANG",
        "colab": {
          "base_uri": "https://localhost:8080/"
        },
        "outputId": "078c748b-a51a-4682-bfcd-ab83376f38cb"
      },
      "execution_count": 43,
      "outputs": [
        {
          "output_type": "stream",
          "name": "stdout",
          "text": [
            "    MPG  Cylinders  Displacement  Horsepower  Weight  Acceleration  \\\n",
            "0  18.0          8         307.0       130.0  3504.0          12.0   \n",
            "1  15.0          8         350.0       165.0  3693.0          11.5   \n",
            "2  18.0          8         318.0       150.0  3436.0          11.0   \n",
            "3  16.0          8         304.0       150.0  3433.0          12.0   \n",
            "4  17.0          8         302.0       140.0  3449.0          10.5   \n",
            "\n",
            "   Model Year  Origin  \n",
            "0          70       1  \n",
            "1          70       1  \n",
            "2          70       1  \n",
            "3          70       1  \n",
            "4          70       1  \n"
          ]
        }
      ]
    },
    {
      "cell_type": "code",
      "source": [
        "# NA행이 있는지 확인하고\n",
        "has_na = df.isna().any().any()\n",
        "print(has_na)\n",
        "\n",
        "na_in_each_column = df.isna().sum()\n",
        "print(na_in_each_column)\n",
        "\n",
        "na_in_each_row = df.isna().sum(axis = 1)\n",
        "print(na_in_each_row)\n",
        "\n",
        "rows_with_na = df[df.isna().any(axis=1)]\n",
        "print(rows_with_na)"
      ],
      "metadata": {
        "colab": {
          "base_uri": "https://localhost:8080/"
        },
        "id": "7AIEQYfEXjtz",
        "outputId": "000ff3dc-4db4-41b7-e981-4a95b1cbaad5"
      },
      "execution_count": 44,
      "outputs": [
        {
          "output_type": "stream",
          "name": "stdout",
          "text": [
            "True\n",
            "MPG             0\n",
            "Cylinders       0\n",
            "Displacement    0\n",
            "Horsepower      6\n",
            "Weight          0\n",
            "Acceleration    0\n",
            "Model Year      0\n",
            "Origin          0\n",
            "dtype: int64\n",
            "0      0\n",
            "1      0\n",
            "2      0\n",
            "3      0\n",
            "4      0\n",
            "      ..\n",
            "393    0\n",
            "394    0\n",
            "395    0\n",
            "396    0\n",
            "397    0\n",
            "Length: 398, dtype: int64\n",
            "      MPG  Cylinders  Displacement  Horsepower  Weight  Acceleration  \\\n",
            "32   25.0          4          98.0         NaN  2046.0          19.0   \n",
            "126  21.0          6         200.0         NaN  2875.0          17.0   \n",
            "330  40.9          4          85.0         NaN  1835.0          17.3   \n",
            "336  23.6          4         140.0         NaN  2905.0          14.3   \n",
            "354  34.5          4         100.0         NaN  2320.0          15.8   \n",
            "374  23.0          4         151.0         NaN  3035.0          20.5   \n",
            "\n",
            "     Model Year  Origin  \n",
            "32           71       1  \n",
            "126          74       1  \n",
            "330          80       2  \n",
            "336          80       1  \n",
            "354          81       2  \n",
            "374          82       1  \n"
          ]
        }
      ]
    },
    {
      "cell_type": "code",
      "source": [
        "## NA행 삭제\n",
        "df = df.dropna()\n",
        "print(df[31:33])"
      ],
      "metadata": {
        "colab": {
          "base_uri": "https://localhost:8080/"
        },
        "id": "7Fnrg3hvX99T",
        "outputId": "c95c3516-fa46-4f2a-ad97-b0408de636a4"
      },
      "execution_count": 45,
      "outputs": [
        {
          "output_type": "stream",
          "name": "stdout",
          "text": [
            "     MPG  Cylinders  Displacement  Horsepower  Weight  Acceleration  \\\n",
            "31  25.0          4         113.0        95.0  2228.0          14.0   \n",
            "33  19.0          6         232.0       100.0  2634.0          13.0   \n",
            "\n",
            "    Model Year  Origin  \n",
            "31          71       3  \n",
            "33          71       1  \n"
          ]
        }
      ]
    },
    {
      "cell_type": "code",
      "source": [
        "# index 재정렬\n",
        "df = df.reset_index(drop=True)\n",
        "print(df[31:33])"
      ],
      "metadata": {
        "colab": {
          "base_uri": "https://localhost:8080/"
        },
        "id": "toIRo3C-Yrpw",
        "outputId": "c3018a67-6b89-4201-ae76-f4e1177cd6e1"
      },
      "execution_count": 46,
      "outputs": [
        {
          "output_type": "stream",
          "name": "stdout",
          "text": [
            "     MPG  Cylinders  Displacement  Horsepower  Weight  Acceleration  \\\n",
            "31  25.0          4         113.0        95.0  2228.0          14.0   \n",
            "32  19.0          6         232.0       100.0  2634.0          13.0   \n",
            "\n",
            "    Model Year  Origin  \n",
            "31          71       3  \n",
            "32          71       1  \n"
          ]
        }
      ]
    },
    {
      "cell_type": "code",
      "source": [
        "## 훈련/테스트 분할:\n",
        "import sklearn\n",
        "import sklearn.model_selection\n",
        "df_train, df_test = sklearn.model_selection.train_test_split(\n",
        "    df, train_size = 0.8, random_state = 1\n",
        ")\n",
        "\n",
        "train_stats = df_train.describe().transpose()\n",
        "print(train_stats)"
      ],
      "metadata": {
        "colab": {
          "base_uri": "https://localhost:8080/"
        },
        "id": "uE9QOOzVYy_n",
        "outputId": "dedfe453-aed2-4733-c211-70702606022c"
      },
      "execution_count": 47,
      "outputs": [
        {
          "output_type": "stream",
          "name": "stdout",
          "text": [
            "              count         mean         std     min     25%     50%     75%  \\\n",
            "MPG           313.0    23.404153    7.666909     9.0    17.5    23.0    29.0   \n",
            "Cylinders     313.0     5.402556    1.701506     3.0     4.0     4.0     8.0   \n",
            "Displacement  313.0   189.512780  102.675646    68.0   104.0   140.0   260.0   \n",
            "Horsepower    313.0   102.929712   37.919046    46.0    75.0    92.0   120.0   \n",
            "Weight        313.0  2961.198083  848.602146  1613.0  2219.0  2755.0  3574.0   \n",
            "Acceleration  313.0    15.704473    2.725399     8.5    14.0    15.5    17.3   \n",
            "Model Year    313.0    75.929712    3.675305    70.0    73.0    76.0    79.0   \n",
            "Origin        313.0     1.591054    0.807923     1.0     1.0     1.0     2.0   \n",
            "\n",
            "                 max  \n",
            "MPG             46.6  \n",
            "Cylinders        8.0  \n",
            "Displacement   455.0  \n",
            "Horsepower     230.0  \n",
            "Weight        5140.0  \n",
            "Acceleration    24.8  \n",
            "Model Year      82.0  \n",
            "Origin           3.0  \n"
          ]
        }
      ]
    },
    {
      "cell_type": "code",
      "source": [
        "numeric_column_names = [\n",
        "    'Cylinders', 'Displacement',\n",
        "    'Horsepower', 'Weight',\n",
        "    'Acceleration'\n",
        "]"
      ],
      "metadata": {
        "id": "-bDFSoKLZuwH"
      },
      "execution_count": 58,
      "outputs": []
    },
    {
      "cell_type": "code",
      "source": [
        "df_train_norm, df_test_norm = df_train.copy(), df_test.copy()\n",
        "for col_name in numeric_column_names:\n",
        "  mean = train_stats.loc[col_name,'mean']\n",
        "  std = train_stats.loc[col_name,'std']\n",
        "  df_train_norm.loc[:,col_name] = (df_train_norm.loc[:,col_name] - mean)/std\n",
        "  df_test_norm.loc[:,col_name] = (df_test_norm.loc[:,col_name] - mean)/std\n",
        "df_train_norm.tail()"
      ],
      "metadata": {
        "colab": {
          "base_uri": "https://localhost:8080/",
          "height": 206
        },
        "id": "m5I3FT0-ZwN-",
        "outputId": "096b8c25-3b29-4c68-def7-d187ec4bcb15"
      },
      "execution_count": 49,
      "outputs": [
        {
          "output_type": "execute_result",
          "data": {
            "text/plain": [
              "      MPG  Cylinders  Displacement  Horsepower    Weight  Acceleration  \\\n",
              "203  28.0  -0.824303     -0.901020   -0.736562 -0.950031      0.255202   \n",
              "255  19.4   0.351127      0.413800   -0.340982  0.293190      0.548737   \n",
              "72   13.0   1.526556      1.144256    0.713897  1.339617     -0.625403   \n",
              "235  30.5  -0.824303     -0.891280   -1.053025 -1.072585      0.475353   \n",
              "37   14.0   1.526556      1.563051    1.636916  1.470420     -1.359240   \n",
              "\n",
              "     Model Year  Origin  \n",
              "203          76       3  \n",
              "255          78       1  \n",
              "72           72       1  \n",
              "235          77       1  \n",
              "37           71       1  "
            ],
            "text/html": [
              "\n",
              "  <div id=\"df-14d7d078-a8f7-4967-be62-7c2ce9684cfe\" class=\"colab-df-container\">\n",
              "    <div>\n",
              "<style scoped>\n",
              "    .dataframe tbody tr th:only-of-type {\n",
              "        vertical-align: middle;\n",
              "    }\n",
              "\n",
              "    .dataframe tbody tr th {\n",
              "        vertical-align: top;\n",
              "    }\n",
              "\n",
              "    .dataframe thead th {\n",
              "        text-align: right;\n",
              "    }\n",
              "</style>\n",
              "<table border=\"1\" class=\"dataframe\">\n",
              "  <thead>\n",
              "    <tr style=\"text-align: right;\">\n",
              "      <th></th>\n",
              "      <th>MPG</th>\n",
              "      <th>Cylinders</th>\n",
              "      <th>Displacement</th>\n",
              "      <th>Horsepower</th>\n",
              "      <th>Weight</th>\n",
              "      <th>Acceleration</th>\n",
              "      <th>Model Year</th>\n",
              "      <th>Origin</th>\n",
              "    </tr>\n",
              "  </thead>\n",
              "  <tbody>\n",
              "    <tr>\n",
              "      <th>203</th>\n",
              "      <td>28.0</td>\n",
              "      <td>-0.824303</td>\n",
              "      <td>-0.901020</td>\n",
              "      <td>-0.736562</td>\n",
              "      <td>-0.950031</td>\n",
              "      <td>0.255202</td>\n",
              "      <td>76</td>\n",
              "      <td>3</td>\n",
              "    </tr>\n",
              "    <tr>\n",
              "      <th>255</th>\n",
              "      <td>19.4</td>\n",
              "      <td>0.351127</td>\n",
              "      <td>0.413800</td>\n",
              "      <td>-0.340982</td>\n",
              "      <td>0.293190</td>\n",
              "      <td>0.548737</td>\n",
              "      <td>78</td>\n",
              "      <td>1</td>\n",
              "    </tr>\n",
              "    <tr>\n",
              "      <th>72</th>\n",
              "      <td>13.0</td>\n",
              "      <td>1.526556</td>\n",
              "      <td>1.144256</td>\n",
              "      <td>0.713897</td>\n",
              "      <td>1.339617</td>\n",
              "      <td>-0.625403</td>\n",
              "      <td>72</td>\n",
              "      <td>1</td>\n",
              "    </tr>\n",
              "    <tr>\n",
              "      <th>235</th>\n",
              "      <td>30.5</td>\n",
              "      <td>-0.824303</td>\n",
              "      <td>-0.891280</td>\n",
              "      <td>-1.053025</td>\n",
              "      <td>-1.072585</td>\n",
              "      <td>0.475353</td>\n",
              "      <td>77</td>\n",
              "      <td>1</td>\n",
              "    </tr>\n",
              "    <tr>\n",
              "      <th>37</th>\n",
              "      <td>14.0</td>\n",
              "      <td>1.526556</td>\n",
              "      <td>1.563051</td>\n",
              "      <td>1.636916</td>\n",
              "      <td>1.470420</td>\n",
              "      <td>-1.359240</td>\n",
              "      <td>71</td>\n",
              "      <td>1</td>\n",
              "    </tr>\n",
              "  </tbody>\n",
              "</table>\n",
              "</div>\n",
              "    <div class=\"colab-df-buttons\">\n",
              "\n",
              "  <div class=\"colab-df-container\">\n",
              "    <button class=\"colab-df-convert\" onclick=\"convertToInteractive('df-14d7d078-a8f7-4967-be62-7c2ce9684cfe')\"\n",
              "            title=\"Convert this dataframe to an interactive table.\"\n",
              "            style=\"display:none;\">\n",
              "\n",
              "  <svg xmlns=\"http://www.w3.org/2000/svg\" height=\"24px\" viewBox=\"0 -960 960 960\">\n",
              "    <path d=\"M120-120v-720h720v720H120Zm60-500h600v-160H180v160Zm220 220h160v-160H400v160Zm0 220h160v-160H400v160ZM180-400h160v-160H180v160Zm440 0h160v-160H620v160ZM180-180h160v-160H180v160Zm440 0h160v-160H620v160Z\"/>\n",
              "  </svg>\n",
              "    </button>\n",
              "\n",
              "  <style>\n",
              "    .colab-df-container {\n",
              "      display:flex;\n",
              "      gap: 12px;\n",
              "    }\n",
              "\n",
              "    .colab-df-convert {\n",
              "      background-color: #E8F0FE;\n",
              "      border: none;\n",
              "      border-radius: 50%;\n",
              "      cursor: pointer;\n",
              "      display: none;\n",
              "      fill: #1967D2;\n",
              "      height: 32px;\n",
              "      padding: 0 0 0 0;\n",
              "      width: 32px;\n",
              "    }\n",
              "\n",
              "    .colab-df-convert:hover {\n",
              "      background-color: #E2EBFA;\n",
              "      box-shadow: 0px 1px 2px rgba(60, 64, 67, 0.3), 0px 1px 3px 1px rgba(60, 64, 67, 0.15);\n",
              "      fill: #174EA6;\n",
              "    }\n",
              "\n",
              "    .colab-df-buttons div {\n",
              "      margin-bottom: 4px;\n",
              "    }\n",
              "\n",
              "    [theme=dark] .colab-df-convert {\n",
              "      background-color: #3B4455;\n",
              "      fill: #D2E3FC;\n",
              "    }\n",
              "\n",
              "    [theme=dark] .colab-df-convert:hover {\n",
              "      background-color: #434B5C;\n",
              "      box-shadow: 0px 1px 3px 1px rgba(0, 0, 0, 0.15);\n",
              "      filter: drop-shadow(0px 1px 2px rgba(0, 0, 0, 0.3));\n",
              "      fill: #FFFFFF;\n",
              "    }\n",
              "  </style>\n",
              "\n",
              "    <script>\n",
              "      const buttonEl =\n",
              "        document.querySelector('#df-14d7d078-a8f7-4967-be62-7c2ce9684cfe button.colab-df-convert');\n",
              "      buttonEl.style.display =\n",
              "        google.colab.kernel.accessAllowed ? 'block' : 'none';\n",
              "\n",
              "      async function convertToInteractive(key) {\n",
              "        const element = document.querySelector('#df-14d7d078-a8f7-4967-be62-7c2ce9684cfe');\n",
              "        const dataTable =\n",
              "          await google.colab.kernel.invokeFunction('convertToInteractive',\n",
              "                                                    [key], {});\n",
              "        if (!dataTable) return;\n",
              "\n",
              "        const docLinkHtml = 'Like what you see? Visit the ' +\n",
              "          '<a target=\"_blank\" href=https://colab.research.google.com/notebooks/data_table.ipynb>data table notebook</a>'\n",
              "          + ' to learn more about interactive tables.';\n",
              "        element.innerHTML = '';\n",
              "        dataTable['output_type'] = 'display_data';\n",
              "        await google.colab.output.renderOutput(dataTable, element);\n",
              "        const docLink = document.createElement('div');\n",
              "        docLink.innerHTML = docLinkHtml;\n",
              "        element.appendChild(docLink);\n",
              "      }\n",
              "    </script>\n",
              "  </div>\n",
              "\n",
              "\n",
              "<div id=\"df-819a7b08-7838-4af4-92ed-4bd5b11d6753\">\n",
              "  <button class=\"colab-df-quickchart\" onclick=\"quickchart('df-819a7b08-7838-4af4-92ed-4bd5b11d6753')\"\n",
              "            title=\"Suggest charts\"\n",
              "            style=\"display:none;\">\n",
              "\n",
              "<svg xmlns=\"http://www.w3.org/2000/svg\" height=\"24px\"viewBox=\"0 0 24 24\"\n",
              "     width=\"24px\">\n",
              "    <g>\n",
              "        <path d=\"M19 3H5c-1.1 0-2 .9-2 2v14c0 1.1.9 2 2 2h14c1.1 0 2-.9 2-2V5c0-1.1-.9-2-2-2zM9 17H7v-7h2v7zm4 0h-2V7h2v10zm4 0h-2v-4h2v4z\"/>\n",
              "    </g>\n",
              "</svg>\n",
              "  </button>\n",
              "\n",
              "<style>\n",
              "  .colab-df-quickchart {\n",
              "      --bg-color: #E8F0FE;\n",
              "      --fill-color: #1967D2;\n",
              "      --hover-bg-color: #E2EBFA;\n",
              "      --hover-fill-color: #174EA6;\n",
              "      --disabled-fill-color: #AAA;\n",
              "      --disabled-bg-color: #DDD;\n",
              "  }\n",
              "\n",
              "  [theme=dark] .colab-df-quickchart {\n",
              "      --bg-color: #3B4455;\n",
              "      --fill-color: #D2E3FC;\n",
              "      --hover-bg-color: #434B5C;\n",
              "      --hover-fill-color: #FFFFFF;\n",
              "      --disabled-bg-color: #3B4455;\n",
              "      --disabled-fill-color: #666;\n",
              "  }\n",
              "\n",
              "  .colab-df-quickchart {\n",
              "    background-color: var(--bg-color);\n",
              "    border: none;\n",
              "    border-radius: 50%;\n",
              "    cursor: pointer;\n",
              "    display: none;\n",
              "    fill: var(--fill-color);\n",
              "    height: 32px;\n",
              "    padding: 0;\n",
              "    width: 32px;\n",
              "  }\n",
              "\n",
              "  .colab-df-quickchart:hover {\n",
              "    background-color: var(--hover-bg-color);\n",
              "    box-shadow: 0 1px 2px rgba(60, 64, 67, 0.3), 0 1px 3px 1px rgba(60, 64, 67, 0.15);\n",
              "    fill: var(--button-hover-fill-color);\n",
              "  }\n",
              "\n",
              "  .colab-df-quickchart-complete:disabled,\n",
              "  .colab-df-quickchart-complete:disabled:hover {\n",
              "    background-color: var(--disabled-bg-color);\n",
              "    fill: var(--disabled-fill-color);\n",
              "    box-shadow: none;\n",
              "  }\n",
              "\n",
              "  .colab-df-spinner {\n",
              "    border: 2px solid var(--fill-color);\n",
              "    border-color: transparent;\n",
              "    border-bottom-color: var(--fill-color);\n",
              "    animation:\n",
              "      spin 1s steps(1) infinite;\n",
              "  }\n",
              "\n",
              "  @keyframes spin {\n",
              "    0% {\n",
              "      border-color: transparent;\n",
              "      border-bottom-color: var(--fill-color);\n",
              "      border-left-color: var(--fill-color);\n",
              "    }\n",
              "    20% {\n",
              "      border-color: transparent;\n",
              "      border-left-color: var(--fill-color);\n",
              "      border-top-color: var(--fill-color);\n",
              "    }\n",
              "    30% {\n",
              "      border-color: transparent;\n",
              "      border-left-color: var(--fill-color);\n",
              "      border-top-color: var(--fill-color);\n",
              "      border-right-color: var(--fill-color);\n",
              "    }\n",
              "    40% {\n",
              "      border-color: transparent;\n",
              "      border-right-color: var(--fill-color);\n",
              "      border-top-color: var(--fill-color);\n",
              "    }\n",
              "    60% {\n",
              "      border-color: transparent;\n",
              "      border-right-color: var(--fill-color);\n",
              "    }\n",
              "    80% {\n",
              "      border-color: transparent;\n",
              "      border-right-color: var(--fill-color);\n",
              "      border-bottom-color: var(--fill-color);\n",
              "    }\n",
              "    90% {\n",
              "      border-color: transparent;\n",
              "      border-bottom-color: var(--fill-color);\n",
              "    }\n",
              "  }\n",
              "</style>\n",
              "\n",
              "  <script>\n",
              "    async function quickchart(key) {\n",
              "      const quickchartButtonEl =\n",
              "        document.querySelector('#' + key + ' button');\n",
              "      quickchartButtonEl.disabled = true;  // To prevent multiple clicks.\n",
              "      quickchartButtonEl.classList.add('colab-df-spinner');\n",
              "      try {\n",
              "        const charts = await google.colab.kernel.invokeFunction(\n",
              "            'suggestCharts', [key], {});\n",
              "      } catch (error) {\n",
              "        console.error('Error during call to suggestCharts:', error);\n",
              "      }\n",
              "      quickchartButtonEl.classList.remove('colab-df-spinner');\n",
              "      quickchartButtonEl.classList.add('colab-df-quickchart-complete');\n",
              "    }\n",
              "    (() => {\n",
              "      let quickchartButtonEl =\n",
              "        document.querySelector('#df-819a7b08-7838-4af4-92ed-4bd5b11d6753 button');\n",
              "      quickchartButtonEl.style.display =\n",
              "        google.colab.kernel.accessAllowed ? 'block' : 'none';\n",
              "    })();\n",
              "  </script>\n",
              "</div>\n",
              "\n",
              "    </div>\n",
              "  </div>\n"
            ],
            "application/vnd.google.colaboratory.intrinsic+json": {
              "type": "dataframe",
              "summary": "{\n  \"name\": \"df_train_norm\",\n  \"rows\": 5,\n  \"fields\": [\n    {\n      \"column\": \"MPG\",\n      \"properties\": {\n        \"dtype\": \"number\",\n        \"std\": 7.981353268713271,\n        \"min\": 13.0,\n        \"max\": 30.5,\n        \"num_unique_values\": 5,\n        \"samples\": [\n          19.4,\n          14.0,\n          13.0\n        ],\n        \"semantic_type\": \"\",\n        \"description\": \"\"\n      }\n    },\n    {\n      \"column\": \"Cylinders\",\n      \"properties\": {\n        \"dtype\": \"number\",\n        \"std\": 1.175429502520901,\n        \"min\": -0.8243027980937309,\n        \"max\": 1.526556206948071,\n        \"num_unique_values\": 3,\n        \"samples\": [\n          -0.8243027980937309,\n          0.35112670442717,\n          1.526556206948071\n        ],\n        \"semantic_type\": \"\",\n        \"description\": \"\"\n      }\n    },\n    {\n      \"column\": \"Displacement\",\n      \"properties\": {\n        \"dtype\": \"number\",\n        \"std\": 1.1376237140319516,\n        \"min\": -0.9010196973264671,\n        \"max\": 1.563050504928143,\n        \"num_unique_values\": 5,\n        \"samples\": [\n          0.4138003710702616,\n          1.563050504928143,\n          1.1442559646239998\n        ],\n        \"semantic_type\": \"\",\n        \"description\": \"\"\n      }\n    },\n    {\n      \"column\": \"Horsepower\",\n      \"properties\": {\n        \"dtype\": \"number\",\n        \"std\": 1.1121032669054443,\n        \"min\": -1.0530252500433737,\n        \"max\": 1.6369158711667997,\n        \"num_unique_values\": 5,\n        \"samples\": [\n          -0.3409820120759748,\n          1.6369158711667997,\n          0.7138968589868383\n        ],\n        \"semantic_type\": \"\",\n        \"description\": \"\"\n      }\n    },\n    {\n      \"column\": \"Weight\",\n      \"properties\": {\n        \"dtype\": \"number\",\n        \"std\": 1.210591124481878,\n        \"min\": -1.0725851775112327,\n        \"max\": 1.470420412293578,\n        \"num_unique_values\": 5,\n        \"samples\": [\n          0.2931902991262907,\n          1.470420412293578,\n          1.3396170663861016\n        ],\n        \"semantic_type\": \"\",\n        \"description\": \"\"\n      }\n    },\n    {\n      \"column\": \"Acceleration\",\n      \"properties\": {\n        \"dtype\": \"number\",\n        \"std\": 0.8263413945969514,\n        \"min\": -1.359240485750421,\n        \"max\": 0.5487369309010532,\n        \"num_unique_values\": 5,\n        \"samples\": [\n          0.5487369309010532,\n          -1.359240485750421,\n          -0.6254030178075461\n        ],\n        \"semantic_type\": \"\",\n        \"description\": \"\"\n      }\n    },\n    {\n      \"column\": \"Model Year\",\n      \"properties\": {\n        \"dtype\": \"number\",\n        \"std\": 3,\n        \"min\": 71,\n        \"max\": 78,\n        \"num_unique_values\": 5,\n        \"samples\": [\n          78,\n          71,\n          72\n        ],\n        \"semantic_type\": \"\",\n        \"description\": \"\"\n      }\n    },\n    {\n      \"column\": \"Origin\",\n      \"properties\": {\n        \"dtype\": \"number\",\n        \"std\": 0,\n        \"min\": 1,\n        \"max\": 3,\n        \"num_unique_values\": 2,\n        \"samples\": [\n          1,\n          3\n        ],\n        \"semantic_type\": \"\",\n        \"description\": \"\"\n      }\n    }\n  ]\n}"
            }
          },
          "metadata": {},
          "execution_count": 49
        }
      ]
    },
    {
      "cell_type": "markdown",
      "source": [
        "### `Model Year` 처리\n",
        "Model Year 정보를 그룹으로 묶어 bucket을 나누어 보자  \n",
        "toch.bucketize 함수를 사용할 것임"
      ],
      "metadata": {
        "id": "nTfXsf84cznK"
      }
    },
    {
      "cell_type": "code",
      "source": [
        "\n",
        "import torch\n",
        "boundaries = torch.tensor([73,76,79])\n",
        "v = torch.tensor(df_train_norm['Model Year'].values)\n",
        "df_train_norm['Model Year Bucketed'] = torch.bucketize(\n",
        "    v, boundaries, right = True\n",
        ")\n",
        "v = torch.tensor(df_test_norm['Model Year'].values)\n",
        "df_test_norm['Model Year Bucketed'] = torch.bucketize(\n",
        "    v, boundaries, right = True\n",
        ")\n",
        "\n",
        "numeric_column_names.append('Model Year Bucketed')"
      ],
      "metadata": {
        "id": "qV2jL9gYbST3"
      },
      "execution_count": 59,
      "outputs": []
    },
    {
      "cell_type": "code",
      "source": [
        "df_train_norm.tail()"
      ],
      "metadata": {
        "colab": {
          "base_uri": "https://localhost:8080/",
          "height": 206
        },
        "id": "-Qo0vymJcHcD",
        "outputId": "573421d1-7556-4ae4-b402-cb001fee60a1"
      },
      "execution_count": 60,
      "outputs": [
        {
          "output_type": "execute_result",
          "data": {
            "text/plain": [
              "      MPG  Cylinders  Displacement  Horsepower    Weight  Acceleration  \\\n",
              "203  28.0  -0.824303     -0.901020   -0.736562 -0.950031      0.255202   \n",
              "255  19.4   0.351127      0.413800   -0.340982  0.293190      0.548737   \n",
              "72   13.0   1.526556      1.144256    0.713897  1.339617     -0.625403   \n",
              "235  30.5  -0.824303     -0.891280   -1.053025 -1.072585      0.475353   \n",
              "37   14.0   1.526556      1.563051    1.636916  1.470420     -1.359240   \n",
              "\n",
              "     Model Year  Origin  Model Year Bucketed  \n",
              "203          76       3                    2  \n",
              "255          78       1                    2  \n",
              "72           72       1                    0  \n",
              "235          77       1                    2  \n",
              "37           71       1                    0  "
            ],
            "text/html": [
              "\n",
              "  <div id=\"df-d1924f14-3dc2-4a54-a473-ccfdb306b7a6\" class=\"colab-df-container\">\n",
              "    <div>\n",
              "<style scoped>\n",
              "    .dataframe tbody tr th:only-of-type {\n",
              "        vertical-align: middle;\n",
              "    }\n",
              "\n",
              "    .dataframe tbody tr th {\n",
              "        vertical-align: top;\n",
              "    }\n",
              "\n",
              "    .dataframe thead th {\n",
              "        text-align: right;\n",
              "    }\n",
              "</style>\n",
              "<table border=\"1\" class=\"dataframe\">\n",
              "  <thead>\n",
              "    <tr style=\"text-align: right;\">\n",
              "      <th></th>\n",
              "      <th>MPG</th>\n",
              "      <th>Cylinders</th>\n",
              "      <th>Displacement</th>\n",
              "      <th>Horsepower</th>\n",
              "      <th>Weight</th>\n",
              "      <th>Acceleration</th>\n",
              "      <th>Model Year</th>\n",
              "      <th>Origin</th>\n",
              "      <th>Model Year Bucketed</th>\n",
              "    </tr>\n",
              "  </thead>\n",
              "  <tbody>\n",
              "    <tr>\n",
              "      <th>203</th>\n",
              "      <td>28.0</td>\n",
              "      <td>-0.824303</td>\n",
              "      <td>-0.901020</td>\n",
              "      <td>-0.736562</td>\n",
              "      <td>-0.950031</td>\n",
              "      <td>0.255202</td>\n",
              "      <td>76</td>\n",
              "      <td>3</td>\n",
              "      <td>2</td>\n",
              "    </tr>\n",
              "    <tr>\n",
              "      <th>255</th>\n",
              "      <td>19.4</td>\n",
              "      <td>0.351127</td>\n",
              "      <td>0.413800</td>\n",
              "      <td>-0.340982</td>\n",
              "      <td>0.293190</td>\n",
              "      <td>0.548737</td>\n",
              "      <td>78</td>\n",
              "      <td>1</td>\n",
              "      <td>2</td>\n",
              "    </tr>\n",
              "    <tr>\n",
              "      <th>72</th>\n",
              "      <td>13.0</td>\n",
              "      <td>1.526556</td>\n",
              "      <td>1.144256</td>\n",
              "      <td>0.713897</td>\n",
              "      <td>1.339617</td>\n",
              "      <td>-0.625403</td>\n",
              "      <td>72</td>\n",
              "      <td>1</td>\n",
              "      <td>0</td>\n",
              "    </tr>\n",
              "    <tr>\n",
              "      <th>235</th>\n",
              "      <td>30.5</td>\n",
              "      <td>-0.824303</td>\n",
              "      <td>-0.891280</td>\n",
              "      <td>-1.053025</td>\n",
              "      <td>-1.072585</td>\n",
              "      <td>0.475353</td>\n",
              "      <td>77</td>\n",
              "      <td>1</td>\n",
              "      <td>2</td>\n",
              "    </tr>\n",
              "    <tr>\n",
              "      <th>37</th>\n",
              "      <td>14.0</td>\n",
              "      <td>1.526556</td>\n",
              "      <td>1.563051</td>\n",
              "      <td>1.636916</td>\n",
              "      <td>1.470420</td>\n",
              "      <td>-1.359240</td>\n",
              "      <td>71</td>\n",
              "      <td>1</td>\n",
              "      <td>0</td>\n",
              "    </tr>\n",
              "  </tbody>\n",
              "</table>\n",
              "</div>\n",
              "    <div class=\"colab-df-buttons\">\n",
              "\n",
              "  <div class=\"colab-df-container\">\n",
              "    <button class=\"colab-df-convert\" onclick=\"convertToInteractive('df-d1924f14-3dc2-4a54-a473-ccfdb306b7a6')\"\n",
              "            title=\"Convert this dataframe to an interactive table.\"\n",
              "            style=\"display:none;\">\n",
              "\n",
              "  <svg xmlns=\"http://www.w3.org/2000/svg\" height=\"24px\" viewBox=\"0 -960 960 960\">\n",
              "    <path d=\"M120-120v-720h720v720H120Zm60-500h600v-160H180v160Zm220 220h160v-160H400v160Zm0 220h160v-160H400v160ZM180-400h160v-160H180v160Zm440 0h160v-160H620v160ZM180-180h160v-160H180v160Zm440 0h160v-160H620v160Z\"/>\n",
              "  </svg>\n",
              "    </button>\n",
              "\n",
              "  <style>\n",
              "    .colab-df-container {\n",
              "      display:flex;\n",
              "      gap: 12px;\n",
              "    }\n",
              "\n",
              "    .colab-df-convert {\n",
              "      background-color: #E8F0FE;\n",
              "      border: none;\n",
              "      border-radius: 50%;\n",
              "      cursor: pointer;\n",
              "      display: none;\n",
              "      fill: #1967D2;\n",
              "      height: 32px;\n",
              "      padding: 0 0 0 0;\n",
              "      width: 32px;\n",
              "    }\n",
              "\n",
              "    .colab-df-convert:hover {\n",
              "      background-color: #E2EBFA;\n",
              "      box-shadow: 0px 1px 2px rgba(60, 64, 67, 0.3), 0px 1px 3px 1px rgba(60, 64, 67, 0.15);\n",
              "      fill: #174EA6;\n",
              "    }\n",
              "\n",
              "    .colab-df-buttons div {\n",
              "      margin-bottom: 4px;\n",
              "    }\n",
              "\n",
              "    [theme=dark] .colab-df-convert {\n",
              "      background-color: #3B4455;\n",
              "      fill: #D2E3FC;\n",
              "    }\n",
              "\n",
              "    [theme=dark] .colab-df-convert:hover {\n",
              "      background-color: #434B5C;\n",
              "      box-shadow: 0px 1px 3px 1px rgba(0, 0, 0, 0.15);\n",
              "      filter: drop-shadow(0px 1px 2px rgba(0, 0, 0, 0.3));\n",
              "      fill: #FFFFFF;\n",
              "    }\n",
              "  </style>\n",
              "\n",
              "    <script>\n",
              "      const buttonEl =\n",
              "        document.querySelector('#df-d1924f14-3dc2-4a54-a473-ccfdb306b7a6 button.colab-df-convert');\n",
              "      buttonEl.style.display =\n",
              "        google.colab.kernel.accessAllowed ? 'block' : 'none';\n",
              "\n",
              "      async function convertToInteractive(key) {\n",
              "        const element = document.querySelector('#df-d1924f14-3dc2-4a54-a473-ccfdb306b7a6');\n",
              "        const dataTable =\n",
              "          await google.colab.kernel.invokeFunction('convertToInteractive',\n",
              "                                                    [key], {});\n",
              "        if (!dataTable) return;\n",
              "\n",
              "        const docLinkHtml = 'Like what you see? Visit the ' +\n",
              "          '<a target=\"_blank\" href=https://colab.research.google.com/notebooks/data_table.ipynb>data table notebook</a>'\n",
              "          + ' to learn more about interactive tables.';\n",
              "        element.innerHTML = '';\n",
              "        dataTable['output_type'] = 'display_data';\n",
              "        await google.colab.output.renderOutput(dataTable, element);\n",
              "        const docLink = document.createElement('div');\n",
              "        docLink.innerHTML = docLinkHtml;\n",
              "        element.appendChild(docLink);\n",
              "      }\n",
              "    </script>\n",
              "  </div>\n",
              "\n",
              "\n",
              "<div id=\"df-54d3b3b7-fd24-45e6-890e-8fdfcf04bdfb\">\n",
              "  <button class=\"colab-df-quickchart\" onclick=\"quickchart('df-54d3b3b7-fd24-45e6-890e-8fdfcf04bdfb')\"\n",
              "            title=\"Suggest charts\"\n",
              "            style=\"display:none;\">\n",
              "\n",
              "<svg xmlns=\"http://www.w3.org/2000/svg\" height=\"24px\"viewBox=\"0 0 24 24\"\n",
              "     width=\"24px\">\n",
              "    <g>\n",
              "        <path d=\"M19 3H5c-1.1 0-2 .9-2 2v14c0 1.1.9 2 2 2h14c1.1 0 2-.9 2-2V5c0-1.1-.9-2-2-2zM9 17H7v-7h2v7zm4 0h-2V7h2v10zm4 0h-2v-4h2v4z\"/>\n",
              "    </g>\n",
              "</svg>\n",
              "  </button>\n",
              "\n",
              "<style>\n",
              "  .colab-df-quickchart {\n",
              "      --bg-color: #E8F0FE;\n",
              "      --fill-color: #1967D2;\n",
              "      --hover-bg-color: #E2EBFA;\n",
              "      --hover-fill-color: #174EA6;\n",
              "      --disabled-fill-color: #AAA;\n",
              "      --disabled-bg-color: #DDD;\n",
              "  }\n",
              "\n",
              "  [theme=dark] .colab-df-quickchart {\n",
              "      --bg-color: #3B4455;\n",
              "      --fill-color: #D2E3FC;\n",
              "      --hover-bg-color: #434B5C;\n",
              "      --hover-fill-color: #FFFFFF;\n",
              "      --disabled-bg-color: #3B4455;\n",
              "      --disabled-fill-color: #666;\n",
              "  }\n",
              "\n",
              "  .colab-df-quickchart {\n",
              "    background-color: var(--bg-color);\n",
              "    border: none;\n",
              "    border-radius: 50%;\n",
              "    cursor: pointer;\n",
              "    display: none;\n",
              "    fill: var(--fill-color);\n",
              "    height: 32px;\n",
              "    padding: 0;\n",
              "    width: 32px;\n",
              "  }\n",
              "\n",
              "  .colab-df-quickchart:hover {\n",
              "    background-color: var(--hover-bg-color);\n",
              "    box-shadow: 0 1px 2px rgba(60, 64, 67, 0.3), 0 1px 3px 1px rgba(60, 64, 67, 0.15);\n",
              "    fill: var(--button-hover-fill-color);\n",
              "  }\n",
              "\n",
              "  .colab-df-quickchart-complete:disabled,\n",
              "  .colab-df-quickchart-complete:disabled:hover {\n",
              "    background-color: var(--disabled-bg-color);\n",
              "    fill: var(--disabled-fill-color);\n",
              "    box-shadow: none;\n",
              "  }\n",
              "\n",
              "  .colab-df-spinner {\n",
              "    border: 2px solid var(--fill-color);\n",
              "    border-color: transparent;\n",
              "    border-bottom-color: var(--fill-color);\n",
              "    animation:\n",
              "      spin 1s steps(1) infinite;\n",
              "  }\n",
              "\n",
              "  @keyframes spin {\n",
              "    0% {\n",
              "      border-color: transparent;\n",
              "      border-bottom-color: var(--fill-color);\n",
              "      border-left-color: var(--fill-color);\n",
              "    }\n",
              "    20% {\n",
              "      border-color: transparent;\n",
              "      border-left-color: var(--fill-color);\n",
              "      border-top-color: var(--fill-color);\n",
              "    }\n",
              "    30% {\n",
              "      border-color: transparent;\n",
              "      border-left-color: var(--fill-color);\n",
              "      border-top-color: var(--fill-color);\n",
              "      border-right-color: var(--fill-color);\n",
              "    }\n",
              "    40% {\n",
              "      border-color: transparent;\n",
              "      border-right-color: var(--fill-color);\n",
              "      border-top-color: var(--fill-color);\n",
              "    }\n",
              "    60% {\n",
              "      border-color: transparent;\n",
              "      border-right-color: var(--fill-color);\n",
              "    }\n",
              "    80% {\n",
              "      border-color: transparent;\n",
              "      border-right-color: var(--fill-color);\n",
              "      border-bottom-color: var(--fill-color);\n",
              "    }\n",
              "    90% {\n",
              "      border-color: transparent;\n",
              "      border-bottom-color: var(--fill-color);\n",
              "    }\n",
              "  }\n",
              "</style>\n",
              "\n",
              "  <script>\n",
              "    async function quickchart(key) {\n",
              "      const quickchartButtonEl =\n",
              "        document.querySelector('#' + key + ' button');\n",
              "      quickchartButtonEl.disabled = true;  // To prevent multiple clicks.\n",
              "      quickchartButtonEl.classList.add('colab-df-spinner');\n",
              "      try {\n",
              "        const charts = await google.colab.kernel.invokeFunction(\n",
              "            'suggestCharts', [key], {});\n",
              "      } catch (error) {\n",
              "        console.error('Error during call to suggestCharts:', error);\n",
              "      }\n",
              "      quickchartButtonEl.classList.remove('colab-df-spinner');\n",
              "      quickchartButtonEl.classList.add('colab-df-quickchart-complete');\n",
              "    }\n",
              "    (() => {\n",
              "      let quickchartButtonEl =\n",
              "        document.querySelector('#df-54d3b3b7-fd24-45e6-890e-8fdfcf04bdfb button');\n",
              "      quickchartButtonEl.style.display =\n",
              "        google.colab.kernel.accessAllowed ? 'block' : 'none';\n",
              "    })();\n",
              "  </script>\n",
              "</div>\n",
              "\n",
              "    </div>\n",
              "  </div>\n"
            ],
            "application/vnd.google.colaboratory.intrinsic+json": {
              "type": "dataframe",
              "summary": "{\n  \"name\": \"df_train_norm\",\n  \"rows\": 5,\n  \"fields\": [\n    {\n      \"column\": \"MPG\",\n      \"properties\": {\n        \"dtype\": \"number\",\n        \"std\": 7.981353268713271,\n        \"min\": 13.0,\n        \"max\": 30.5,\n        \"num_unique_values\": 5,\n        \"samples\": [\n          19.4,\n          14.0,\n          13.0\n        ],\n        \"semantic_type\": \"\",\n        \"description\": \"\"\n      }\n    },\n    {\n      \"column\": \"Cylinders\",\n      \"properties\": {\n        \"dtype\": \"number\",\n        \"std\": 1.175429502520901,\n        \"min\": -0.8243027980937309,\n        \"max\": 1.526556206948071,\n        \"num_unique_values\": 3,\n        \"samples\": [\n          -0.8243027980937309,\n          0.35112670442717,\n          1.526556206948071\n        ],\n        \"semantic_type\": \"\",\n        \"description\": \"\"\n      }\n    },\n    {\n      \"column\": \"Displacement\",\n      \"properties\": {\n        \"dtype\": \"number\",\n        \"std\": 1.1376237140319516,\n        \"min\": -0.9010196973264671,\n        \"max\": 1.563050504928143,\n        \"num_unique_values\": 5,\n        \"samples\": [\n          0.4138003710702616,\n          1.563050504928143,\n          1.1442559646239998\n        ],\n        \"semantic_type\": \"\",\n        \"description\": \"\"\n      }\n    },\n    {\n      \"column\": \"Horsepower\",\n      \"properties\": {\n        \"dtype\": \"number\",\n        \"std\": 1.1121032669054443,\n        \"min\": -1.0530252500433737,\n        \"max\": 1.6369158711667997,\n        \"num_unique_values\": 5,\n        \"samples\": [\n          -0.3409820120759748,\n          1.6369158711667997,\n          0.7138968589868383\n        ],\n        \"semantic_type\": \"\",\n        \"description\": \"\"\n      }\n    },\n    {\n      \"column\": \"Weight\",\n      \"properties\": {\n        \"dtype\": \"number\",\n        \"std\": 1.210591124481878,\n        \"min\": -1.0725851775112327,\n        \"max\": 1.470420412293578,\n        \"num_unique_values\": 5,\n        \"samples\": [\n          0.2931902991262907,\n          1.470420412293578,\n          1.3396170663861016\n        ],\n        \"semantic_type\": \"\",\n        \"description\": \"\"\n      }\n    },\n    {\n      \"column\": \"Acceleration\",\n      \"properties\": {\n        \"dtype\": \"number\",\n        \"std\": 0.8263413945969514,\n        \"min\": -1.359240485750421,\n        \"max\": 0.5487369309010532,\n        \"num_unique_values\": 5,\n        \"samples\": [\n          0.5487369309010532,\n          -1.359240485750421,\n          -0.6254030178075461\n        ],\n        \"semantic_type\": \"\",\n        \"description\": \"\"\n      }\n    },\n    {\n      \"column\": \"Model Year\",\n      \"properties\": {\n        \"dtype\": \"number\",\n        \"std\": 3,\n        \"min\": 71,\n        \"max\": 78,\n        \"num_unique_values\": 5,\n        \"samples\": [\n          78,\n          71,\n          72\n        ],\n        \"semantic_type\": \"\",\n        \"description\": \"\"\n      }\n    },\n    {\n      \"column\": \"Origin\",\n      \"properties\": {\n        \"dtype\": \"number\",\n        \"std\": 0,\n        \"min\": 1,\n        \"max\": 3,\n        \"num_unique_values\": 2,\n        \"samples\": [\n          1,\n          3\n        ],\n        \"semantic_type\": \"\",\n        \"description\": \"\"\n      }\n    },\n    {\n      \"column\": \"Model Year Bucketed\",\n      \"properties\": {\n        \"dtype\": \"number\",\n        \"std\": 1,\n        \"min\": 0,\n        \"max\": 2,\n        \"num_unique_values\": 2,\n        \"samples\": [\n          0,\n          2\n        ],\n        \"semantic_type\": \"\",\n        \"description\": \"\"\n      }\n    }\n  ]\n}"
            }
          },
          "metadata": {},
          "execution_count": 60
        }
      ]
    },
    {
      "cell_type": "markdown",
      "source": [
        "### `Origin` 처리\n",
        "이제 순서가 없는 범주형 특징인 Origin에 대한 리스트를 정의해 보자  \n",
        "파이토치에서 범주형 특성을 다루는 방법에는 두 가지가 있음.  \n",
        "1. 임베딩 층인 `nn.Embedding`을 사용하거나 - 각 인덱스를 훈련 가능한 float 타입의 랜덤 벡터에 매핑\n",
        "2. 원-핫 인코딩 벡터(indicator 라고도 함)을 사용하는 것 - 인덱스 0이 [1,0,0], 인덱스 1이 [0,1,0]으로 인코딩되는 식  \n",
        "\n",
        "임베딩 층을 훈련 가능한 가중치 행렬을 원-핫 인코딩에 곱한 더 효율적인 구현이라고 생각할 수 있음.  \n",
        "\n",
        "범주 개수가 많은 경우 범주 개수보다 적은 수의 차원을 가진 임베딩 층을 사용하면 성능을 향상시킬수 있음.  \n",
        "\n",
        "이번 프로젝트에서는 범주형 특성에 원-핫 인코딩 방식을 적용하여 이를 밀집 형태로 변환해보자.  \n"
      ],
      "metadata": {
        "id": "phFIdnBNcu8G"
      }
    },
    {
      "cell_type": "code",
      "source": [
        "from torch.nn.functional import one_hot\n",
        "total_origin = len(set(df_train_norm['Origin']))\n",
        "origin_encoded = one_hot(torch.from_numpy(\n",
        "    df_train_norm['Origin'].values) % total_origin)\n",
        "print(origin_encoded[:10,:])"
      ],
      "metadata": {
        "colab": {
          "base_uri": "https://localhost:8080/"
        },
        "id": "S_eL4TTccLEB",
        "outputId": "b508599d-c5d1-467c-9d80-abb658f12183"
      },
      "execution_count": 61,
      "outputs": [
        {
          "output_type": "stream",
          "name": "stdout",
          "text": [
            "tensor([[0, 1, 0],\n",
            "        [0, 1, 0],\n",
            "        [0, 0, 1],\n",
            "        [1, 0, 0],\n",
            "        [0, 0, 1],\n",
            "        [0, 1, 0],\n",
            "        [0, 1, 0],\n",
            "        [1, 0, 0],\n",
            "        [0, 1, 0],\n",
            "        [1, 0, 0]])\n"
          ]
        }
      ]
    },
    {
      "cell_type": "code",
      "source": [
        "x_train_numeric = torch.tensor(\n",
        "    df_train_norm[numeric_column_names].values)\n",
        "x_train = torch.cat([x_train_numeric, origin_encoded],1).float()\n",
        "print(x_train[:5,:])"
      ],
      "metadata": {
        "colab": {
          "base_uri": "https://localhost:8080/"
        },
        "id": "3q7PbVQTe3g9",
        "outputId": "9bb76234-97a8-4d5d-a1a4-c65f0d8a89b5"
      },
      "execution_count": 68,
      "outputs": [
        {
          "output_type": "stream",
          "name": "stdout",
          "text": [
            "tensor([[-8.2430e-01, -5.3092e-01, -4.9921e-01, -5.5526e-01, -1.6412e-03,\n",
            "          3.0000e+00,  0.0000e+00,  1.0000e+00,  0.0000e+00],\n",
            "        [ 3.5113e-01,  3.4562e-01,  1.8646e-01,  7.7634e-01,  1.0991e+00,\n",
            "          2.0000e+00,  0.0000e+00,  1.0000e+00,  0.0000e+00],\n",
            "        [-8.2430e-01, -8.9128e-01, -5.2559e-01, -8.7461e-01,  2.9189e-01,\n",
            "          1.0000e+00,  0.0000e+00,  0.0000e+00,  1.0000e+00],\n",
            "        [-8.2430e-01, -1.0082e+00, -1.0003e+00, -1.1103e+00,  2.5520e-01,\n",
            "          3.0000e+00,  1.0000e+00,  0.0000e+00,  0.0000e+00],\n",
            "        [-8.2430e-01, -8.2310e-01, -7.6293e-01, -9.0879e-01, -5.5202e-01,\n",
            "          3.0000e+00,  0.0000e+00,  0.0000e+00,  1.0000e+00]])\n"
          ]
        }
      ]
    },
    {
      "cell_type": "code",
      "source": [
        "origin_encoded = one_hot(torch.from_numpy(\n",
        "    df_test_norm['Origin'].values) % total_origin)\n",
        "x_test_numeric = torch.tensor(\n",
        "    df_test_norm[numeric_column_names].values)\n",
        "x_test = torch.cat([x_test_numeric,origin_encoded],axis = 1).float()"
      ],
      "metadata": {
        "id": "L6SU4FkHgCJa"
      },
      "execution_count": 69,
      "outputs": []
    },
    {
      "cell_type": "code",
      "source": [
        "# 마지막으로 정답 MPG 값으로부터 레이블 텐서를 생성하자\n",
        "y_train = torch.tensor(df_train_norm['MPG'].values).float()\n",
        "y_test = torch.tensor(df_test_norm['MPG'].values).float()"
      ],
      "metadata": {
        "id": "XJSdAVKZg3_Q"
      },
      "execution_count": 71,
      "outputs": []
    },
    {
      "cell_type": "markdown",
      "source": [
        "# 13.6.2 DNN 회귀 모델 훈련하기\n",
        "특서과 레이블을 구성한 후, 훈련 데이터를 위해 배치 크기 8을 사용하는 데이터 로더를 생성해보자"
      ],
      "metadata": {
        "id": "2KZb0ttihfWM"
      }
    },
    {
      "cell_type": "code",
      "source": [
        "from torch.utils.data import TensorDataset, DataLoader\n",
        "train_ds = TensorDataset(x_train, y_train)\n",
        "batch_size = 8\n",
        "train_dl = DataLoader(train_ds, batch_size, shuffle = True)"
      ],
      "metadata": {
        "id": "MKggdDbihlLK"
      },
      "execution_count": 72,
      "outputs": []
    },
    {
      "cell_type": "code",
      "source": [
        "import torch.nn as nn\n",
        "# 다음으로 각각 8개의 은닉 유닛과 4개의 은닉 유닛을 가진 두개의 완전 연결 층으로 구성된 모델을 만들어보자\n",
        "\n",
        "# nn.Sequential을 활용한 방법\n",
        "model = nn.Sequential(\n",
        "    nn.Linear(x_train.shape[1],8),\n",
        "    nn.ReLU(),\n",
        "    nn.Linear(8,4),\n",
        "    nn.ReLU(),\n",
        "    nn.Linear(4,1)\n",
        ")\n",
        "print(model)\n",
        "# nn.Module을 활용한 방법\n",
        "class MyModule(nn.Module):\n",
        "  def __init__(self,input_size):\n",
        "    super().__init__()\n",
        "    l1 = nn.Linear(input_size, 8)\n",
        "    a1 = nn.ReLU()\n",
        "    l2 = nn.Linear(8,4)\n",
        "    a2 = nn.ReLU()\n",
        "    l3 = nn.Linear(4,1)\n",
        "    l = [l1, a1, l2, a2, l3]\n",
        "    self.module_list = nn.ModuleList(l)\n",
        "\n",
        "  def forawrd(self,x):\n",
        "    for f in self.module_list:\n",
        "      x = f(x)\n",
        "    return x\n",
        "model = MyModule(x_train.shape[1])\n",
        "print(model)\n",
        "# 책의 방법\n",
        "\n",
        "hidden_units = [8,4]\n",
        "input_size = x_train.shape[1]\n",
        "all_layers = []\n",
        "for hidden_unit in hidden_units:\n",
        "  layer = nn.Linear(input_size, hidden_unit)\n",
        "  all_layers.append(layer)\n",
        "  all_layers.append(nn.ReLU())\n",
        "  input_size = hidden_unit\n",
        "all_layers.append( nn.Linear(hidden_units[-1],1))\n",
        "model = nn.Sequential(*all_layers)\n",
        "model"
      ],
      "metadata": {
        "colab": {
          "base_uri": "https://localhost:8080/"
        },
        "id": "3rMeoVtMi1yx",
        "outputId": "d5830707-f181-437c-c916-b23d6f3092df"
      },
      "execution_count": 85,
      "outputs": [
        {
          "output_type": "stream",
          "name": "stdout",
          "text": [
            "Sequential(\n",
            "  (0): Linear(in_features=9, out_features=8, bias=True)\n",
            "  (1): ReLU()\n",
            "  (2): Linear(in_features=8, out_features=4, bias=True)\n",
            "  (3): ReLU()\n",
            "  (4): Linear(in_features=4, out_features=1, bias=True)\n",
            ")\n",
            "MyModule(\n",
            "  (module_list): ModuleList(\n",
            "    (0): Linear(in_features=9, out_features=8, bias=True)\n",
            "    (1): ReLU()\n",
            "    (2): Linear(in_features=8, out_features=4, bias=True)\n",
            "    (3): ReLU()\n",
            "    (4): Linear(in_features=4, out_features=1, bias=True)\n",
            "  )\n",
            ")\n"
          ]
        },
        {
          "output_type": "execute_result",
          "data": {
            "text/plain": [
              "Sequential(\n",
              "  (0): Linear(in_features=9, out_features=8, bias=True)\n",
              "  (1): ReLU()\n",
              "  (2): Linear(in_features=8, out_features=4, bias=True)\n",
              "  (3): ReLU()\n",
              "  (4): Linear(in_features=4, out_features=1, bias=True)\n",
              ")"
            ]
          },
          "metadata": {},
          "execution_count": 85
        }
      ]
    },
    {
      "cell_type": "code",
      "source": [
        "# 회귀를 위한 MSE손실 함수를 정의하고 최적화를 위해 확률적 경사 하강법을 사용해보자\n",
        "loss_fn = nn.MSELoss()\n",
        "optimizer = torch.optim.SGD(model.parameters(), lr = 0.001)\n"
      ],
      "metadata": {
        "id": "QQlLA4eIjsZF"
      },
      "execution_count": 86,
      "outputs": []
    },
    {
      "cell_type": "code",
      "source": [
        "# 이제 200번의 에포크동안 모델을 훈련하고, 20번 에포크마다 훈련 손실을 출력해보자\n",
        "torch.manual_seed(1)\n",
        "num_epochs = 200\n",
        "loss_hist_train = [0] * num_epochs\n",
        "for epoch in range(num_epochs):\n",
        "  for x_batch, y_batch in train_dl:\n",
        "    pred = model(x_batch)[:,0]\n",
        "    loss = loss_fn(pred, y_batch)\n",
        "    loss.backward()\n",
        "    optimizer.step()\n",
        "    optimizer.zero_grad()\n",
        "    loss_hist_train[epoch] += loss.item()\n",
        "  loss_hist_train[epoch] /= (x_train.shape[0]/batch_size)\n",
        "  if epoch % 20 == 0:\n",
        "    print(f'epoch : {epoch} loss : {loss_hist_train[epoch]:.4f}')"
      ],
      "metadata": {
        "colab": {
          "base_uri": "https://localhost:8080/"
        },
        "id": "zyN8pdkZlGaL",
        "outputId": "da87b69a-e43a-4d23-9e34-dc291623352a"
      },
      "execution_count": 87,
      "outputs": [
        {
          "output_type": "stream",
          "name": "stdout",
          "text": [
            "epoch : 0 loss : 568.8733\n",
            "epoch : 20 loss : 9.5743\n",
            "epoch : 40 loss : 8.3235\n",
            "epoch : 60 loss : 8.0378\n",
            "epoch : 80 loss : 7.7006\n",
            "epoch : 100 loss : 7.4024\n",
            "epoch : 120 loss : 7.0655\n",
            "epoch : 140 loss : 7.1309\n",
            "epoch : 160 loss : 7.3166\n",
            "epoch : 180 loss : 6.5254\n"
          ]
        }
      ]
    },
    {
      "cell_type": "code",
      "source": [
        "# epoch에 따른 loss의 변화를 그려보자\n",
        "import matplotlib\n",
        "import matplotlib.pyplot as plt\n",
        "fig = plt.figure(figsize = (14,6))\n",
        "ax = fig.add_subplot(1,2,1)\n",
        "plt.plot(loss_hist_train, lw = 2)\n",
        "ax.set_xlabel('epochs')\n",
        "ax.set_ylabel('Train loss')\n"
      ],
      "metadata": {
        "colab": {
          "base_uri": "https://localhost:8080/",
          "height": 560
        },
        "id": "dnM9Zz16l-FE",
        "outputId": "2c574a36-6221-46da-aa4c-f3d390aaf71f"
      },
      "execution_count": 96,
      "outputs": [
        {
          "output_type": "execute_result",
          "data": {
            "text/plain": [
              "Text(0, 0.5, 'Train loss')"
            ]
          },
          "metadata": {},
          "execution_count": 96
        },
        {
          "output_type": "display_data",
          "data": {
            "text/plain": [
              "<Figure size 1400x600 with 1 Axes>"
            ],
            "image/png": "[encoded data removed]"
          },
          "metadata": {}
        }
      ]
    },
    {
      "cell_type": "code",
      "source": [
        "# 이제 테스트 데이터셋에서 훈련된 모델의 회귀 성능을 평가해보자\n",
        "# 새로운 데이터 포인트의 타깃 값을 예측하기 위해 해당 데이터 포인트의 특성을 몯레에 공급하자\n",
        "with torch.no_grad():\n",
        "  pred = model(x_test.float())[:,0]\n",
        "  loss = loss_fn(pred, y_test)\n",
        "  print(f'test MSE : {loss.item():.4f}')\n",
        "  print(f'test MAE : {nn.L1Loss()(pred, y_test).item():.4f}')"
      ],
      "metadata": {
        "colab": {
          "base_uri": "https://localhost:8080/"
        },
        "id": "DXkx0LiGnz2e",
        "outputId": "f72b9861-0bc0-4425-eeb1-768c299436cb"
      },
      "execution_count": 98,
      "outputs": [
        {
          "output_type": "stream",
          "name": "stdout",
          "text": [
            "test MSE : 8.0723\n",
            "test MAE : 1.9377\n"
          ]
        }
      ]
    }
  ]
}