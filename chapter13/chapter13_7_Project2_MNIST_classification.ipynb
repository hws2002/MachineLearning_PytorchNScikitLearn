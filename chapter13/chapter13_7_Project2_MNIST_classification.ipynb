{
  "nbformat": 4,
  "nbformat_minor": 0,
  "metadata": {
    "colab": {
      "provenance": [],
      "authorship_tag": "ABX9TyOJegMniS5uUScpJM9r79vq",
      "include_colab_link": true
    },
    "kernelspec": {
      "name": "python3",
      "display_name": "Python 3"
    },
    "language_info": {
      "name": "python"
    }
  },
  "cells": [
    {
      "cell_type": "markdown",
      "metadata": {
        "id": "view-in-github",
        "colab_type": "text"
      },
      "source": [
        "<a href=\"https://colab.research.google.com/github/hws2002/MachineLearning_PytorchNScikitLearn/blob/master/chapter13/chapter13_7_Project2_MNIST_classification.ipynb\" target=\"_parent\"><img src=\"https://colab.research.google.com/assets/colab-badge.svg\" alt=\"Open In Colab\"/></a>"
      ]
    },
    {
      "cell_type": "markdown",
      "source": [
        "# 13.7 프로젝트2 : MNIST 손글씨 숫자 분류하기\n",
        "이번 절에서는 MNIST데이터셋의 손글씨 숫자를 분류하는 프로젝트를 진행해보자"
      ],
      "metadata": {
        "id": "OX_FE4TPF-f6"
      }
    },
    {
      "cell_type": "code",
      "source": [
        "# This mounts your Google Drive to the Colab VM.\n",
        "from google.colab import drive\n",
        "drive.mount('/content/drive')\n",
        "\n",
        "FOLDERNAME = 'Colab Notebooks/pyml/'\n",
        "assert FOLDERNAME is not None, \"[!] Enter the foldername.\"\n",
        "\n",
        "import sys\n",
        "sys.path.append('/content/drive/My Drive/{}'.format(FOLDERNAME))\n",
        "%cd /content/drive/My\\ Drive/$FOLDERNAME\n",
        "\n",
        "%load_ext autoreload\n",
        "%autoreload 2"
      ],
      "metadata": {
        "colab": {
          "base_uri": "https://localhost:8080/"
        },
        "id": "CaYNr_T_G30l",
        "outputId": "be37585e-6b67-468a-ec51-7eeed39fefec"
      },
      "execution_count": 1,
      "outputs": [
        {
          "output_type": "stream",
          "name": "stdout",
          "text": [
            "Mounted at /content/drive\n",
            "/content/drive/My Drive/Colab Notebooks/pyml\n"
          ]
        }
      ]
    },
    {
      "cell_type": "code",
      "execution_count": 2,
      "metadata": {
        "id": "oq-x2EMIpQZ4"
      },
      "outputs": [],
      "source": [
        "# 1. 설정단계\n",
        "# 데이터셋을 로드하고 하이퍼파라미터(훈련 세트와 테스트 세트 크기, 미니 배치 크기)를 지정하자\n",
        "# torchvision 모듈을 사용하여 MNISt데이터셋을 로드하자\n",
        "import torchvision\n",
        "from torchvision import transforms\n",
        "import torch\n",
        "from torch.utils.data import DataLoader, TensorDataset\n",
        "image_path = 'Chapter13/'\n",
        "transform = transforms.Compose([\n",
        "    transforms.ToTensor() #\n",
        "])\n",
        "\n",
        "mnist_train_dataset = torchvision.datasets.MNIST(\n",
        "    root = image_path, train = True,\n",
        "    transform = transform, download = True)\n",
        "\n",
        "mnist_test_dataset = torchvision.datasets.MNIST(\n",
        "    root = image_path, train = False,\n",
        "    transform = transform, download = False\n",
        ")\n",
        "\n",
        "batch_size = 64\n",
        "torch.manual_seed(1)\n",
        "train_dl = DataLoader(mnist_train_dataset,\n",
        "                      batch_size, shuffle = True)\n",
        "\n"
      ]
    },
    {
      "cell_type": "markdown",
      "source": [
        "## 2. 입력 특성과 레이블 전처리 단계\n",
        "이 프로젝트에서 데이터의 특성은 1단계에서 읽은 이밎의 픽셀임.  \n",
        "`torchvision.transforms.Compose`를 사용하여 사용자 정의 변환을 정의할 수 있음.  \n",
        "간단한 이 예제에서는 `ToTensor()` 메서드 하나로 변환이 구성됨.  \n",
        "`ToTensor()` 메서드는 픽셀 특성을 실수 텐서로 변환하고 [0,255] 범위의 픽셀을 [0,1] 범위로 정규화함.  \n",
        "14장에서 더 복잡한 이미지 데이터셋을 다룰 떄 몇 가지 추가적인 데이터 변환 방법을 살펴보자.  \n",
        "\n",
        "레이블의 경우 0에서 9까지의 정수이므로, 추가적인 스케일 조정이나 변환이 필요하지 않음.  \n",
        "\n",
        "`data`속성을 사용하여 원시 픽셀 값을 참조할 수 있으며, [0, 1]범위로 변환되었다는 것을 잊지 말자.  "
      ],
      "metadata": {
        "id": "PCFMv43gIFUR"
      }
    },
    {
      "cell_type": "code",
      "source": [
        "print(mnist_train_dataset[0][0].shape)"
      ],
      "metadata": {
        "colab": {
          "base_uri": "https://localhost:8080/"
        },
        "id": "A6uOOLXbLZHh",
        "outputId": "298a370a-0fd4-4785-a7f1-766463b735aa"
      },
      "execution_count": 3,
      "outputs": [
        {
          "output_type": "stream",
          "name": "stdout",
          "text": [
            "torch.Size([1, 28, 28])\n"
          ]
        }
      ]
    },
    {
      "cell_type": "code",
      "source": [
        "# 3. 신경망 모델 만들기\n",
        "import torch.nn as nn\n",
        "hidden_units = [32,16]\n",
        "image_size = mnist_train_dataset[0][0].shape\n",
        "input_size = image_size[0] * image_size[1] * image_size[2]\n",
        "all_layers = [nn.Flatten()]\n",
        "for hidden_unit in hidden_units:\n",
        "  layer = nn.Linear(input_size, hidden_unit)\n",
        "  all_layers.append(layer)\n",
        "  all_layers.append(nn.ReLU())\n",
        "  input_size = hidden_unit\n",
        "all_layers.append(nn.Linear(hidden_units[-1],10))\n",
        "model = nn.Sequential(*all_layers)\n",
        "model"
      ],
      "metadata": {
        "id": "5VPbs9zCqIVh",
        "colab": {
          "base_uri": "https://localhost:8080/"
        },
        "outputId": "88c1dc49-03b1-4488-c51e-b60e98607ade"
      },
      "execution_count": 7,
      "outputs": [
        {
          "output_type": "execute_result",
          "data": {
            "text/plain": [
              "Sequential(\n",
              "  (0): Flatten(start_dim=1, end_dim=-1)\n",
              "  (1): Linear(in_features=784, out_features=32, bias=True)\n",
              "  (2): ReLU()\n",
              "  (3): Linear(in_features=32, out_features=16, bias=True)\n",
              "  (4): ReLU()\n",
              "  (5): Linear(in_features=16, out_features=10, bias=True)\n",
              ")"
            ]
          },
          "metadata": {},
          "execution_count": 7
        }
      ]
    },
    {
      "cell_type": "code",
      "source": [
        "# 4.  모델 사용하여 훈련, 평가 및 예측하기\n",
        "loss_fn = nn.CrossEntropyLoss()\n",
        "optimizer = torch.optim.Adam(model.parameters(), lr = 0.001)\n",
        "torch.manual_seed(1)\n",
        "num_epochs = 20\n",
        "\n",
        "for epoch in range(num_epochs):\n",
        "  accuracy_hist_train = 0\n",
        "  for x_batch, y_batch in train_dl:\n",
        "    pred = model(x_batch)\n",
        "    loss = loss_fn(pred, y_batch)\n",
        "    loss.backward()\n",
        "    optimizer.step()\n",
        "    optimizer.zero_grad()\n",
        "    is_correct = (\n",
        "        torch.argmax(pred, dim = 1) == y_batch\n",
        "    ).float()\n",
        "    accuracy_hist_train += is_correct.sum()\n",
        "  accuracy_hist_train /= len(train_dl.dataset)\n",
        "  print(f'epoch : {epoch} accuracy '\n",
        "        f'{accuracy_hist_train:.4f}')"
      ],
      "metadata": {
        "id": "vtHmtBAwLIbq",
        "colab": {
          "base_uri": "https://localhost:8080/"
        },
        "outputId": "374f94cf-3a1e-4d32-a691-eb82a9c52f27"
      },
      "execution_count": 8,
      "outputs": [
        {
          "output_type": "stream",
          "name": "stdout",
          "text": [
            "epoch : 0 accuracy0.8576\n",
            "epoch : 1 accuracy0.9295\n",
            "epoch : 2 accuracy0.9441\n",
            "epoch : 3 accuracy0.9527\n",
            "epoch : 4 accuracy0.9577\n",
            "epoch : 5 accuracy0.9617\n",
            "epoch : 6 accuracy0.9657\n",
            "epoch : 7 accuracy0.9676\n",
            "epoch : 8 accuracy0.9691\n",
            "epoch : 9 accuracy0.9721\n",
            "epoch : 10 accuracy0.9734\n",
            "epoch : 11 accuracy0.9752\n",
            "epoch : 12 accuracy0.9766\n",
            "epoch : 13 accuracy0.9776\n",
            "epoch : 14 accuracy0.9786\n",
            "epoch : 15 accuracy0.9805\n",
            "epoch : 16 accuracy0.9811\n",
            "epoch : 17 accuracy0.9826\n",
            "epoch : 18 accuracy0.9826\n",
            "epoch : 19 accuracy0.9839\n"
          ]
        }
      ]
    },
    {
      "cell_type": "code",
      "source": [
        "# 5. 테스트 세트 평가\n",
        "pred = model(mnist_test_dataset.data / 255.)\n",
        "is_correct = (\n",
        "    torch.argmax( pred , dim = 1) == mnist_test_dataset.targets\n",
        ").float()\n",
        "\n",
        "print(f'테스트 정확도: {is_correct.mean():.4f}')"
      ],
      "metadata": {
        "colab": {
          "base_uri": "https://localhost:8080/"
        },
        "id": "n83ov-51hmFr",
        "outputId": "466ca008-6acf-4842-a719-dd902be53e5d"
      },
      "execution_count": 9,
      "outputs": [
        {
          "output_type": "stream",
          "name": "stdout",
          "text": [
            "테스트 정확도: 0.9667\n"
          ]
        }
      ]
    }
  ]
}