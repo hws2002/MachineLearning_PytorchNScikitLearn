{
  "nbformat": 4,
  "nbformat_minor": 0,
  "metadata": {
    "colab": {
      "provenance": [],
      "authorship_tag": "ABX9TyOFdKOGZHl1oanfgkeeMv3F",
      "include_colab_link": true
    },
    "kernelspec": {
      "name": "python3",
      "display_name": "Python 3"
    },
    "language_info": {
      "name": "python"
    }
  },
  "cells": [
    {
      "cell_type": "markdown",
      "metadata": {
        "id": "view-in-github",
        "colab_type": "text"
      },
      "source": [
        "<a href=\"https://colab.research.google.com/github/hws2002/MachineLearning_PytorchNScikitLearn/blob/master/chapter12/chapter12_2_pytorch_intro.ipynb\" target=\"_parent\"><img src=\"https://colab.research.google.com/assets/colab-badge.svg\" alt=\"Open In Colab\"/></a>"
      ]
    },
    {
      "cell_type": "code",
      "source": [
        "import torch\n",
        "import numpy as np"
      ],
      "metadata": {
        "id": "6dZPtnHZqeeM"
      },
      "execution_count": 4,
      "outputs": []
    },
    {
      "cell_type": "code",
      "source": [
        "print(torch.__version__)"
      ],
      "metadata": {
        "id": "77RHRU5vq4H2",
        "colab": {
          "base_uri": "https://localhost:8080/"
        },
        "outputId": "1f446d59-53b3-499b-eef3-74d820947714"
      },
      "execution_count": 7,
      "outputs": [
        {
          "output_type": "stream",
          "name": "stdout",
          "text": [
            "2.3.1+cu121\n"
          ]
        }
      ]
    },
    {
      "cell_type": "code",
      "source": [
        "# 텐서 t_a, t_b는 shape = (3,) 속성과 원본 데이터에서 유도된 dtype = int32 속성과 함께 출력됨.\n",
        "np.set_printoptions(precision=3)\n",
        "a = [1,2,3]\n",
        "b = np.array([4,5,6], dtype = np.int32)\n",
        "t_a = torch.tensor(a)\n",
        "t_b = torch.from_numpy(b)\n",
        "print(t_a)\n",
        "print(t_b)"
      ],
      "metadata": {
        "colab": {
          "base_uri": "https://localhost:8080/"
        },
        "id": "YEia4ZKjA_e_",
        "outputId": "0876a45a-d975-44bf-e6e1-9dc7df23022e"
      },
      "execution_count": 8,
      "outputs": [
        {
          "output_type": "stream",
          "name": "stdout",
          "text": [
            "tensor([1, 2, 3])\n",
            "tensor([4, 5, 6], dtype=torch.int32)\n"
          ]
        }
      ]
    },
    {
      "cell_type": "code",
      "source": [
        "t_ones = torch.ones(2,3)\n",
        "t_ones.shape\n",
        "print(t_ones)"
      ],
      "metadata": {
        "colab": {
          "base_uri": "https://localhost:8080/"
        },
        "id": "io4cJsdbBBsu",
        "outputId": "366074f7-872e-4dc6-d978-2dc18a0f42b2"
      },
      "execution_count": 10,
      "outputs": [
        {
          "output_type": "stream",
          "name": "stdout",
          "text": [
            "tensor([[1., 1., 1.],\n",
            "        [1., 1., 1.]])\n"
          ]
        }
      ]
    },
    {
      "cell_type": "code",
      "source": [
        "# 상수 값을 가진 텐서를 다음과 같이 만들 수 있음\n",
        "rand_tensor = torch.rand(2,3)\n",
        "print(rand_tensor)"
      ],
      "metadata": {
        "colab": {
          "base_uri": "https://localhost:8080/"
        },
        "id": "qHsNDD-hBYDf",
        "outputId": "7ebe4ba8-a6c8-4728-db31-2a6ed747249e"
      },
      "execution_count": 11,
      "outputs": [
        {
          "output_type": "stream",
          "name": "stdout",
          "text": [
            "tensor([[0.0246, 0.3107, 0.4165],\n",
            "        [0.8041, 0.7134, 0.3489]])\n"
          ]
        }
      ]
    },
    {
      "cell_type": "markdown",
      "source": [
        "# 12.2.3. 텐서의 데이터 타입과 크기 조작\n",
        "모델이나 연산에 맞는 입력을 준비하려면 텐서를 조작하는 방법을 배워야 함.\n",
        "이 절에서 텐서의 데이터 타입과 크기를 조작하는 방법을 배워보자.\n",
        "파이토치의 `to`, `reshape`, `transpose`, `squeeze(차원 삭제)` 함수를 사용함"
      ],
      "metadata": {
        "id": "FJLmgy9XBhVw"
      }
    },
    {
      "cell_type": "markdown",
      "source": [
        "## `torch.to()`\n",
        "텐서의 데이터 타입을 원하는 타입으로 바꿈\n",
        "* 다른 데이터 타입은 https://pytorch.org/docs/stable/tensor_attributes.html 를 참고하자"
      ],
      "metadata": {
        "id": "qs26rP-kBuhy"
      }
    },
    {
      "cell_type": "code",
      "source": [
        "t_a_new = t_a.to(torch.int64)\n",
        "print(t_a_new.dtype)"
      ],
      "metadata": {
        "colab": {
          "base_uri": "https://localhost:8080/"
        },
        "id": "W7j9OoYsBgfv",
        "outputId": "f88b2118-b313-4c9d-b3b1-e7a335f22219"
      },
      "execution_count": 12,
      "outputs": [
        {
          "output_type": "stream",
          "name": "stdout",
          "text": [
            "torch.int64\n"
          ]
        }
      ]
    },
    {
      "cell_type": "code",
      "source": [
        "# 텐서 전치하기\n",
        "t = torch.rand(3,5)\n",
        "t_tr = torch.transpose(t, 0, 1)\n",
        "print(t.shape, '-->', t_tr.shape)"
      ],
      "metadata": {
        "colab": {
          "base_uri": "https://localhost:8080/"
        },
        "id": "FVEqfxJvB1up",
        "outputId": "28236f98-70dd-4f0a-eef6-349407dc4aad"
      },
      "execution_count": 14,
      "outputs": [
        {
          "output_type": "stream",
          "name": "stdout",
          "text": [
            "torch.Size([3, 5]) --> torch.Size([5, 3])\n"
          ]
        }
      ]
    },
    {
      "cell_type": "code",
      "source": [
        "# 텐서 크기 바꾸기 (예를 들어 1D 벡터에서 2D 배열로)\n",
        "t = torch.zeros(30)\n",
        "t_reshape = t.reshape(5,6)\n",
        "print(t_reshape.shape)"
      ],
      "metadata": {
        "colab": {
          "base_uri": "https://localhost:8080/"
        },
        "id": "USXe0ik7CHto",
        "outputId": "21007b1b-25ee-49e4-c8f2-30f99a49db66"
      },
      "execution_count": 15,
      "outputs": [
        {
          "output_type": "stream",
          "name": "stdout",
          "text": [
            "torch.Size([5, 6])\n"
          ]
        }
      ]
    },
    {
      "cell_type": "code",
      "source": [
        "# 불필요한 차원 삭제하기 (크기가 1인 차원은 불필요함)\n",
        "t = torch.zeros(1,2,1,4,1)\n",
        "t_sqz = torch.squeeze(t,2)\n",
        "print(t.shape, '-->', t_sqz.shape)"
      ],
      "metadata": {
        "colab": {
          "base_uri": "https://localhost:8080/"
        },
        "id": "ouideWkGCS6D",
        "outputId": "059a2280-9ad3-4a71-b92e-fb2925aecb2c"
      },
      "execution_count": 18,
      "outputs": [
        {
          "output_type": "stream",
          "name": "stdout",
          "text": [
            "torch.Size([1, 2, 1, 4, 1]) --> torch.Size([1, 2, 4, 1])\n"
          ]
        }
      ]
    },
    {
      "cell_type": "markdown",
      "source": [
        "# 12.2.4 텐서에 수학 연산 적용\n",
        "널리 사용하는 선형대수 연산을 배워보자.\n",
        "원소별 곱셈, 행렬 곱셈, 텐서의 노름 연산 등등."
      ],
      "metadata": {
        "id": "45CRhb0_CfF8"
      }
    },
    {
      "cell_type": "code",
      "source": [
        "torch.manual_seed(1)\n",
        "t1 = 2 * torch.rand(5,2) - 1 # [-1,1)사이의 균등 분포\n",
        "t2 = torch.normal(mean = 0, std = 1, size = (5,2))"
      ],
      "metadata": {
        "id": "t0OQ-nSECbDr"
      },
      "execution_count": 19,
      "outputs": []
    },
    {
      "cell_type": "code",
      "source": [
        "t3 = torch.multiply(t1,t2)\n",
        "print(t3)"
      ],
      "metadata": {
        "colab": {
          "base_uri": "https://localhost:8080/"
        },
        "id": "DjJb4yRuCyny",
        "outputId": "4c0453aa-c762-4098-e9c2-2fca98464569"
      },
      "execution_count": 22,
      "outputs": [
        {
          "output_type": "stream",
          "name": "stdout",
          "text": [
            "tensor([[ 0.4426, -0.3114],\n",
            "        [ 0.0660, -0.5970],\n",
            "        [ 1.1249,  0.0150],\n",
            "        [ 0.1569,  0.7107],\n",
            "        [-0.0451, -0.0352]])\n"
          ]
        }
      ]
    },
    {
      "cell_type": "code",
      "source": [
        "# 특정 축(들)을 따라 평균, 합, 표준 편차를 계산할면 torch.mean(), torch.sum(), torch.std()를 사용할 수 있음\n",
        "# 예를 들어 t1의 각 열 평균은 다음과 같이 계산 가능\n",
        "t4 = torch.mean(t1, dim = 0) # or axis = 0\n",
        "print(t4)"
      ],
      "metadata": {
        "colab": {
          "base_uri": "https://localhost:8080/"
        },
        "id": "k73Aa_V-C1zB",
        "outputId": "9ed1f54f-67b3-42bb-923d-a846ca6703c0"
      },
      "execution_count": 28,
      "outputs": [
        {
          "output_type": "stream",
          "name": "stdout",
          "text": [
            "tensor([-0.1373,  0.2028])\n"
          ]
        }
      ]
    },
    {
      "cell_type": "code",
      "source": [
        "# t1과 t2의 행렬 곱셈 은 torch.matmul() 함수를 사용하여 계산 가능\n",
        "t5 = torch.matmul(t1,torch.transpose(t2,0,1))\n",
        "print(t5)"
      ],
      "metadata": {
        "colab": {
          "base_uri": "https://localhost:8080/"
        },
        "id": "88rrDI6bDRkp",
        "outputId": "90ac0db9-75d4-476f-8cdc-248519c51fc7"
      },
      "execution_count": 30,
      "outputs": [
        {
          "output_type": "stream",
          "name": "stdout",
          "text": [
            "tensor([[ 0.1312,  0.3860, -0.6267, -1.0096, -0.2943],\n",
            "        [ 0.1647, -0.5310,  0.2434,  0.8035,  0.1980],\n",
            "        [-0.3855, -0.4422,  1.1399,  1.5558,  0.4781],\n",
            "        [ 0.1822, -0.5771,  0.2585,  0.8676,  0.2132],\n",
            "        [ 0.0330,  0.1084, -0.1692, -0.2771, -0.0804]])\n"
          ]
        }
      ]
    },
    {
      "cell_type": "code",
      "source": [
        "# torch.linalg.norm() 함수를 사용하여 텐서의 L^p norm을 게산할 수 있음\n",
        "# 예를 들어 t1의 노름 L2는\n",
        "norm_t1 = torch.linalg.norm(t1,ord = 2, dim = 1)\n",
        "print(norm_t1)"
      ],
      "metadata": {
        "colab": {
          "base_uri": "https://localhost:8080/"
        },
        "id": "wjj8qhrKDng5",
        "outputId": "aa11d74a-440f-450d-d383-e820787b7c63"
      },
      "execution_count": 32,
      "outputs": [
        {
          "output_type": "stream",
          "name": "stdout",
          "text": [
            "tensor([0.6785, 0.5078, 1.1162, 0.5488, 0.1853])\n"
          ]
        }
      ]
    },
    {
      "cell_type": "code",
      "source": [
        "# 이 값과 비교해보자\n",
        "print(np.sqrt(np.sum(t1.numpy() ** 2, axis = 1)))"
      ],
      "metadata": {
        "colab": {
          "base_uri": "https://localhost:8080/"
        },
        "id": "ex3bCyyrEBJn",
        "outputId": "f3acb796-0162-489b-8653-a7805abbebd4"
      },
      "execution_count": 35,
      "outputs": [
        {
          "output_type": "stream",
          "name": "stdout",
          "text": [
            "[0.678 0.508 1.116 0.549 0.185]\n"
          ]
        }
      ]
    },
    {
      "cell_type": "markdown",
      "source": [
        "# 12.2.5 chunk(), stack(), cat() 함수\n",
        "하나의 텐서를 여러 개의 텐서로 나누는 텐서플로 연산을 알아보자  \n",
        "또는 반대로 여러 개의 텐서를 쌓거나 연결하여 하나의 텐서로 만드는 연산도 알아보자\n"
      ],
      "metadata": {
        "id": "3HAwMJ2dEZqa"
      }
    },
    {
      "cell_type": "code",
      "source": [
        "# 하나의 텐서를 두 개 이상의 텐서로 나누어야 한다면, torch.chunk() 를 쓰자\n",
        "# 입력된 텐서를 동일한 크기의 텐서 리스트로 나눔\n",
        "# 두 번째 매개변수인 chunks 매개변수에 분할할 텐서 개수를 지정하고\n",
        "# dim 매개변수로 원하는 차원을 지정할 수 있음\n",
        "# 또는 torch.split()를 사용하여 원하는 크기를 리스트로 전달 할 수도 있음.\n",
        "\n",
        "# 분할 개수 지정하기\n",
        "torch.manual_seed(1)\n",
        "t = torch.rand(6)\n",
        "print(t)\n",
        "\n",
        "t_splits = torch.chunk(t,3)\n",
        "[item.numpy() for item in t_splits]\n",
        "# !텐서 크기를 chunks 값으로 나눌 수 없는 경우 마지막에 작은 크기의 청크가 만들어짐"
      ],
      "metadata": {
        "colab": {
          "base_uri": "https://localhost:8080/"
        },
        "id": "U3vXWMj2EPZk",
        "outputId": "96802161-604b-4e05-e8cb-14d44c2c89dc"
      },
      "execution_count": 41,
      "outputs": [
        {
          "output_type": "stream",
          "name": "stdout",
          "text": [
            "tensor([0.7576, 0.2793, 0.4031, 0.7347, 0.0293, 0.7999])\n"
          ]
        },
        {
          "output_type": "execute_result",
          "data": {
            "text/plain": [
              "[array([0.758, 0.279], dtype=float32),\n",
              " array([0.403, 0.735], dtype=float32),\n",
              " array([0.029, 0.8  ], dtype=float32)]"
            ]
          },
          "metadata": {},
          "execution_count": 41
        }
      ]
    },
    {
      "cell_type": "code",
      "source": [
        "# 다른 분할 크기 전달하기\n",
        "# 분할 개수 대신에 출력 텐서의 크기를 직접 지정할 수도 있음\n",
        "# 크기 5인 텐서를 크기 3과 2인 텐서 두개로 나눠보자.\n",
        "torch.manual_seed(1)\n",
        "t = torch.rand(5)\n",
        "print(t)\n",
        "\n",
        "t_splits = torch.split(t, split_size_or_sections=[3,2])\n",
        "[item.numpy() for item in t_splits]"
      ],
      "metadata": {
        "colab": {
          "base_uri": "https://localhost:8080/"
        },
        "id": "pk-fPkiJE5ND",
        "outputId": "821ade83-e931-450e-9a1a-25393da00f62"
      },
      "execution_count": 43,
      "outputs": [
        {
          "output_type": "stream",
          "name": "stdout",
          "text": [
            "tensor([0.7576, 0.2793, 0.4031, 0.7347, 0.0293])\n"
          ]
        },
        {
          "output_type": "execute_result",
          "data": {
            "text/plain": [
              "[array([0.758, 0.279, 0.403], dtype=float32),\n",
              " array([0.735, 0.029], dtype=float32)]"
            ]
          },
          "metadata": {},
          "execution_count": 43
        }
      ]
    },
    {
      "cell_type": "code",
      "source": [
        "# 이따금 여러 개의 텐서를 연결하거나 쌓아서 하나의 텐서를 만들어야 하는 경우가 있음\n",
        "# 이런 경우 torch.stack() 과 torch.cat() 같은 파이토치 함수를 사용하면 편리함\n",
        "\n",
        "# 예를 들어 크기가 3이고 1로 채워진 1D텐서 A와 크기가 2이고 0으로 채워진 1D텐서 B가 있다고 가정해보자.\n",
        "# 두 텐서를 가로로 연결하여 크기가 5인 1D텐서 C를 만들어보자\n",
        "A = torch.ones(3)\n",
        "B = torch.zeros(2)\n",
        "C = torch.cat( (A,B), axis = 0)\n",
        "print(C)"
      ],
      "metadata": {
        "colab": {
          "base_uri": "https://localhost:8080/"
        },
        "id": "LNwrh6EiFc0v",
        "outputId": "69d60b8a-1f78-442b-fade-eebdbb9c9107"
      },
      "execution_count": 53,
      "outputs": [
        {
          "output_type": "stream",
          "name": "stdout",
          "text": [
            "tensor([1., 1., 1., 0., 0.])\n"
          ]
        }
      ]
    },
    {
      "cell_type": "code",
      "source": [
        "# 두 텐서를 세로로 연결해보자\n",
        "B = torch.zeros(3)\n",
        "C = torch.stack((A,B), axis = 1)\n",
        "print(C)"
      ],
      "metadata": {
        "colab": {
          "base_uri": "https://localhost:8080/"
        },
        "id": "sF4C7ilKF8BZ",
        "outputId": "edbff101-9753-44d3-9d60-7db1cc5278ae"
      },
      "execution_count": 55,
      "outputs": [
        {
          "output_type": "stream",
          "name": "stdout",
          "text": [
            "tensor([[1., 0.],\n",
            "        [1., 0.],\n",
            "        [1., 0.]])\n"
          ]
        }
      ]
    },
    {
      "cell_type": "markdown",
      "source": [
        "이 외 핵심적인 함수들은 파이토치 문서를 참고하자\n",
        "https://pytorch.org/docs/stable/index.html"
      ],
      "metadata": {
        "id": "A4GCoUwQGhx7"
      }
    },
    {
      "cell_type": "code",
      "source": [],
      "metadata": {
        "id": "aBsk-6efGZS7"
      },
      "execution_count": null,
      "outputs": []
    }
  ]
}