{
  "nbformat": 4,
  "nbformat_minor": 0,
  "metadata": {
    "colab": {
      "provenance": [],
      "authorship_tag": "ABX9TyM+hepxBDkx0gj/wlq9eiU2",
      "include_colab_link": true
    },
    "kernelspec": {
      "name": "python3",
      "display_name": "Python 3"
    },
    "language_info": {
      "name": "python"
    }
  },
  "cells": [
    {
      "cell_type": "markdown",
      "metadata": {
        "id": "view-in-github",
        "colab_type": "text"
      },
      "source": [
        "<a href=\"https://colab.research.google.com/github/hws2002/MachineLearning_PytorchNScikitLearn/blob/master/chapter12/chapter12_5_activation_fn.ipynb\" target=\"_parent\"><img src=\"https://colab.research.google.com/assets/colab-badge.svg\" alt=\"Open In Colab\"/></a>"
      ]
    },
    {
      "cell_type": "code",
      "source": [
        "import numpy as np"
      ],
      "metadata": {
        "id": "0LFybbAXPe7I"
      },
      "execution_count": null,
      "outputs": []
    },
    {
      "cell_type": "markdown",
      "source": [
        "# 12.5 다층 신경망의 활성화 함수 선택\n",
        "기술적으로 미분 가능하다면 어떠한 함수라도 다층 신경망의 활성화 함수로 사용할 수 있음  \n"
      ],
      "metadata": {
        "id": "-BG_X0jEOfEu"
      }
    },
    {
      "cell_type": "markdown",
      "source": [
        "## 12.5.1 로지스틱 함수 요약\n",
        "2차원 데이터 포인트 x와 가중치 벡터로 구성된 모델을 예로 시그모이드 함수에 대해 알아보자"
      ],
      "metadata": {
        "id": "VCBqS-EuPQw3"
      }
    },
    {
      "cell_type": "code",
      "execution_count": null,
      "metadata": {
        "colab": {
          "base_uri": "https://localhost:8080/"
        },
        "id": "ui560UmJOZ3X",
        "outputId": "2b1c4ac1-c687-43c4-b24a-4d90a430c8c5"
      },
      "outputs": [
        {
          "output_type": "stream",
          "name": "stdout",
          "text": [
            "P(y=1|x) = 0.888\n"
          ]
        }
      ],
      "source": [
        "X = np.array([1,   1.4,  2.5])\n",
        "w = np.array([0.4, 0.3,  0.5])\n",
        "\n",
        "def net_input(X,w):\n",
        "  return np.dot(X,w)\n",
        "\n",
        "def logistic(z):\n",
        "  return 1.0 / (1.0 + np.exp(-z))\n",
        "\n",
        "def logistic_activation(X,w):\n",
        "  z = net_input(X,w)\n",
        "  return logistic(z)\n",
        "\n",
        "print('P(y=1|x) = %.3f' % logistic_activation(X,w))"
      ]
    },
    {
      "cell_type": "markdown",
      "source": [
        "다음 코드에서처럼 여러 개의 로지스틱 활성화 유닛으로 구성된 출력층은 의미있게 해석할 만한 확률 값을 만들지 못함"
      ],
      "metadata": {
        "id": "rmci4kp0Ka6x"
      }
    },
    {
      "cell_type": "code",
      "source": [
        "W = np.array([[1.1, 1.2, 0.8, 0.4],\n",
        "              [0.2, 0.4, 1.0, 0.2],\n",
        "              [0.6, 1.5, 1.2, 0.7]])\n",
        "A = np.array([[1, 0.1, 0.4, 0.6]])\n",
        "Z = np.dot(W, A[0])\n",
        "y_probas = logistic(Z)\n",
        "print('최종 입력 : \\n' ,Z)\n",
        "print('유닛 출력 : \\n', y_probas)"
      ],
      "metadata": {
        "id": "uDw1t9t4P1Lj",
        "colab": {
          "base_uri": "https://localhost:8080/"
        },
        "outputId": "7de462c7-23cd-4f4b-bc06-1c54d6b2f0a5"
      },
      "execution_count": null,
      "outputs": [
        {
          "output_type": "stream",
          "name": "stdout",
          "text": [
            "최종 입력 : \n",
            " [1.78 0.76 1.65]\n",
            "유닛 출력 : \n",
            " [0.85569687 0.68135373 0.83889105]\n"
          ]
        }
      ]
    },
    {
      "cell_type": "markdown",
      "source": [
        "하지만 클래스 레이블을 예측하기 위해서라면 큰 문제는 아님.  \n",
        "이들 중 가장 큰 값을 선택하면 되기 때문"
      ],
      "metadata": {
        "id": "wqix98NEKk50"
      }
    },
    {
      "cell_type": "code",
      "source": [
        "y_class = np.argmax(y_probas, axis = 0)\n",
        "print(' 예측 클래스 레이블 : %d' % y_class)"
      ],
      "metadata": {
        "colab": {
          "base_uri": "https://localhost:8080/"
        },
        "id": "XNIDauflKZma",
        "outputId": "9a9db68e-4b74-4809-bb2e-b4fa2e75ed84"
      },
      "execution_count": null,
      "outputs": [
        {
          "output_type": "stream",
          "name": "stdout",
          "text": [
            " 예측 클래스 레이블 : 0\n"
          ]
        }
      ]
    },
    {
      "cell_type": "markdown",
      "source": [
        "하지만 어떤 경우에는 다중 클래스 예측 문제에서 의미 있는 클래스 확률을 계산할 필요가 있음 -> softmax 함수"
      ],
      "metadata": {
        "id": "CiivL0vAK8jt"
      }
    },
    {
      "cell_type": "markdown",
      "source": [
        "## 12.5.2 소프트맥스 함수를 사용한 다중 클래스 확률 예측\n",
        "하나의 클래스를 찾는 대신 각 클래스의 확률을 반환하므로 다중 클래스 환경 (multinomial logistic regression)에서 의미 있는 클래스 확률을 계산할 수 있음\n"
      ],
      "metadata": {
        "id": "y3a6W0JBLEho"
      }
    },
    {
      "cell_type": "code",
      "source": [
        "# softmax 함수의 동적과정을 직접 파이썬으로 만들어 보자\n",
        "def softmax(z):\n",
        "  return np.exp(z) / np.sum(np.exp(z))\n",
        "y_probas = softmax(Z)\n",
        "print('확률 ; \\n' , y_probas)"
      ],
      "metadata": {
        "colab": {
          "base_uri": "https://localhost:8080/"
        },
        "id": "JMGVIspZK0HR",
        "outputId": "b701a240-de8b-4f6f-de4c-0e647f784814"
      },
      "execution_count": null,
      "outputs": [
        {
          "output_type": "stream",
          "name": "stdout",
          "text": [
            "확률 ; \n",
            " [0.44668973 0.16107406 0.39223621]\n"
          ]
        }
      ]
    },
    {
      "cell_type": "code",
      "source": [
        "import torch\n",
        "# Z를 배치 크기를 위한 차원을 추가한 텐서로 바꾼 후 파이토치의 `torch.softmax()` 활성화 함수를 어떻게 사용하는지 알아보자\n",
        "torch.softmax(torch.from_numpy(Z), dim = 0)"
      ],
      "metadata": {
        "colab": {
          "base_uri": "https://localhost:8080/"
        },
        "id": "623C_VaKLg2t",
        "outputId": "c1514b6a-be55-4a89-c700-10e5c5e4eb8f"
      },
      "execution_count": null,
      "outputs": [
        {
          "output_type": "execute_result",
          "data": {
            "text/plain": [
              "tensor([0.4467, 0.1611, 0.3922], dtype=torch.float64)"
            ]
          },
          "metadata": {},
          "execution_count": 11
        }
      ]
    },
    {
      "cell_type": "markdown",
      "source": [
        "## 12.5.3 하이퍼볼릭 탄젠트로 출력 범위 넓히기\n",
        "인공 신경망의 은닉층에 많이 사용하느 또 다른 시그모이드 함수는 **하이퍼볼릭 탄젠트(hyperbolic tangent) **임.  \n",
        "이 함수는 스케일이 조정된 로지스틱 함수라고 생각할 수 있음.  \n",
        "로지스틱 함수는 (0,1)범위의 출력 신호를 가지는데 반해, 하이퍼볼릭 탄젠트 함수는 출력 범위를 (-1,1)사이로 넓혀서 역전파 알고리즘의 수렴을 향상시킴"
      ],
      "metadata": {
        "id": "oAnxvgqlMpVD"
      }
    },
    {
      "cell_type": "code",
      "source": [
        "import matplotlib.pyplot as plt\n",
        "def tanh(z):\n",
        "  return (np.exp(z) - np.exp(-z))/(np.exp(z) + np.exp(-z))\n",
        "z = np.arange(-5,5,0.005)\n",
        "log_act = logistic(z)\n",
        "tanh_act = tanh(z)\n",
        "plt.ylim([-1.5,1.5])\n",
        "plt.xlabel('Net input $z$')\n",
        "plt.ylabel('Activation $\\sigma(z)$')\n",
        "\n",
        "# set ax horizontal line\n",
        "plt.axhline(1.0, color = 'black', linestyle = ':')\n",
        "plt.axhline(0.5, color = 'black', linestyle = ':')\n",
        "plt.axhline(0, color = 'black', linestyle = ':')\n",
        "plt.axhline(-0.5, color = 'black', linestyle = ':')\n",
        "plt.axhline(-1.0, color = 'black', linestyle = ':')\n",
        "\n",
        "# plot tanh and logistic function\n",
        "plt.plot(z, tanh_act, linewidth = 3, linestyle = '--', label = 'Tanh')\n",
        "plt.plot(z, log_act, linewidth = 3, label = 'Logistic')\n",
        "plt.legend(loc = 'lower right')\n",
        "plt.tight_layout()\n",
        "plt.show()"
      ],
      "metadata": {
        "colab": {
          "base_uri": "https://localhost:8080/",
          "height": 487
        },
        "id": "D6j0AveyL10T",
        "outputId": "68edcc2c-cdc1-4146-8de9-8fb88c769acc"
      },
      "execution_count": null,
      "outputs": [
        {
          "output_type": "display_data",
          "data": {
            "text/plain": [
              "<Figure size 640x480 with 1 Axes>"
            ],
            "image/png": "[encoded data removed]"
          },
          "metadata": {}
        }
      ]
    },
    {
      "cell_type": "code",
      "source": [
        "# 넘파이 함수 혹은 파이토치의 torch.tanh(x)함수를 사용하여 동일한 결과를 얻을 수 있음\n",
        "np.tanh(z)"
      ],
      "metadata": {
        "colab": {
          "base_uri": "https://localhost:8080/"
        },
        "id": "2iSsf84fO00k",
        "outputId": "90f41438-acf6-4792-ef19-d14146581811"
      },
      "execution_count": null,
      "outputs": [
        {
          "output_type": "execute_result",
          "data": {
            "text/plain": [
              "array([-0.9999092 , -0.99990829, -0.99990737, ...,  0.99990644,\n",
              "        0.99990737,  0.99990829])"
            ]
          },
          "metadata": {},
          "execution_count": 15
        }
      ]
    },
    {
      "cell_type": "code",
      "source": [
        "torch.tanh(torch.from_numpy(z))"
      ],
      "metadata": {
        "colab": {
          "base_uri": "https://localhost:8080/"
        },
        "id": "fgQX4xjaPK6E",
        "outputId": "3cd893d3-7046-4c8c-a6c1-ad183cf46c3b"
      },
      "execution_count": null,
      "outputs": [
        {
          "output_type": "execute_result",
          "data": {
            "text/plain": [
              "tensor([-0.9999, -0.9999, -0.9999,  ...,  0.9999,  0.9999,  0.9999],\n",
              "       dtype=torch.float64)"
            ]
          },
          "metadata": {},
          "execution_count": 16
        }
      ]
    },
    {
      "cell_type": "code",
      "source": [
        "# 사이파이 special 모듈에도 로지스틱 함수가 있음\n",
        "import scipy\n",
        "from scipy.special import expit\n",
        "expit(z)"
      ],
      "metadata": {
        "colab": {
          "base_uri": "https://localhost:8080/"
        },
        "id": "OD6GmVezgc8z",
        "outputId": "6db1b68d-71be-4b87-91ac-f579b656a6b7"
      },
      "execution_count": 23,
      "outputs": [
        {
          "output_type": "execute_result",
          "data": {
            "text/plain": [
              "array([0.00669285, 0.00672617, 0.00675966, ..., 0.99320669, 0.99324034,\n",
              "       0.99327383])"
            ]
          },
          "metadata": {},
          "execution_count": 23
        }
      ]
    },
    {
      "cell_type": "code",
      "source": [
        "# 시그모이드 함수 또한 마찬가지\n",
        "torch.sigmoid(torch.from_numpy(z))\n",
        "# Sigmoid 클래스를 활용해서도 가능\n",
        "torch.nn.Sigmoid()(torch.from_numpy(z))"
      ],
      "metadata": {
        "colab": {
          "base_uri": "https://localhost:8080/"
        },
        "id": "TSpz6C5IPNA8",
        "outputId": "0d4d70b5-1e64-40c4-9a7a-8ae573ef80cf"
      },
      "execution_count": null,
      "outputs": [
        {
          "output_type": "execute_result",
          "data": {
            "text/plain": [
              "tensor([0.0067, 0.0067, 0.0068,  ..., 0.9932, 0.9932, 0.9933],\n",
              "       dtype=torch.float64)"
            ]
          },
          "metadata": {},
          "execution_count": 20
        }
      ]
    },
    {
      "cell_type": "markdown",
      "source": [
        "## 12.5.4 렐루 활성화 함수\n",
        "그레디언트 소실 문제를 어느정도 해소해줌"
      ],
      "metadata": {
        "id": "elE_vH2vglw4"
      }
    },
    {
      "cell_type": "code",
      "source": [
        "# 다음과 같이 사용 가능\n",
        "torch.relu(torch.from_numpy(z))"
      ],
      "metadata": {
        "id": "HBeQvoT7PSJ0",
        "colab": {
          "base_uri": "https://localhost:8080/"
        },
        "outputId": "3d1359fd-a3d0-4c94-ff36-f1f0223e1bc3"
      },
      "execution_count": 24,
      "outputs": [
        {
          "output_type": "execute_result",
          "data": {
            "text/plain": [
              "tensor([0.0000, 0.0000, 0.0000,  ..., 4.9850, 4.9900, 4.9950],\n",
              "       dtype=torch.float64)"
            ]
          },
          "metadata": {},
          "execution_count": 24
        }
      ]
    },
    {
      "cell_type": "markdown",
      "source": [
        "torch.nn 모듈에서 사용할 수 있는 모든 활성화 함수는\n",
        "https://pytorch.org/docs/stable/nn.functional.html\n",
        "에서 확인해보자"
      ],
      "metadata": {
        "id": "bZYoTdbGhYjS"
      }
    }
  ]
}