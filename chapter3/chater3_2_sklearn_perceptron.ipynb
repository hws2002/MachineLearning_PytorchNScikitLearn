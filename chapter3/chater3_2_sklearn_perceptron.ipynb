{
  "nbformat": 4,
  "nbformat_minor": 0,
  "metadata": {
    "colab": {
      "provenance": [],
      "authorship_tag": "ABX9TyOBpqJpp/qcicNKAjCoUshk",
      "include_colab_link": true
    },
    "kernelspec": {
      "name": "python3",
      "display_name": "Python 3"
    },
    "language_info": {
      "name": "python"
    }
  },
  "cells": [
    {
      "cell_type": "markdown",
      "metadata": {
        "id": "view-in-github",
        "colab_type": "text"
      },
      "source": [
        "<a href=\"https://colab.research.google.com/github/hws2002/MachineLearning_PytorchNScikitLearn/blob/master/chapter3/chater3_2_sklearn_perceptron.ipynb\" target=\"_parent\"><img src=\"https://colab.research.google.com/assets/colab-badge.svg\" alt=\"Open In Colab\"/></a>"
      ]
    },
    {
      "cell_type": "code",
      "execution_count": 1,
      "metadata": {
        "id": "iLr16TqgslS4"
      },
      "outputs": [],
      "source": [
        "import numpy as np\n",
        "import pandas as pd\n",
        "import matplotlib.pyplot as plt\n",
        "import sklearn\n",
        "from sklearn import datasets"
      ]
    },
    {
      "cell_type": "code",
      "source": [
        "# This mounts your Google Drive to the Colab VM.\n",
        "from google.colab import drive\n",
        "drive.mount('/content/drive')\n",
        "\n",
        "FOLDERNAME = 'Colab Notebooks/pyml/'\n",
        "assert FOLDERNAME is not None, \"[!] Enter the foldername.\"\n",
        "\n",
        "import sys\n",
        "sys.path.append('/content/drive/My Drive/{}'.format(FOLDERNAME))\n",
        "%cd /content/drive/My\\ Drive/$FOLDERNAME\n",
        "\n",
        "%load_ext autoreload\n",
        "%autoreload 2"
      ],
      "metadata": {
        "colab": {
          "base_uri": "https://localhost:8080/"
        },
        "id": "LM-J-26ospi0",
        "outputId": "1cbf2541-d0bf-455c-a92f-30f87df69900"
      },
      "execution_count": 2,
      "outputs": [
        {
          "output_type": "stream",
          "name": "stdout",
          "text": [
            "Mounted at /content/drive\n",
            "/content/drive/My Drive/Colab Notebooks/pyml\n"
          ]
        }
      ]
    },
    {
      "cell_type": "markdown",
      "source": [
        "# load dataset\n",
        "\n",
        "## `load_iris`\n",
        "이 함수는 파이썬 딕셔너리와 유사한 사이킷런의 Bunch 클래스 속성을 반환함.  \n",
        "- data 속성 : 특성 행렬에 해당(쉽게 말해 X)\n",
        "- target 속성 : 타깃 벡터에 해당(쉽게 말해 y)\n",
        "- feature_names 속성 : 특성 이름을 담음\n",
        "- target_names 속성 : 타깃 이름을 담음\n",
        "- DESCR 속성 : 데이터셋에 대한 설명을 담음"
      ],
      "metadata": {
        "id": "UxPyecRCs3eo"
      }
    },
    {
      "cell_type": "code",
      "source": [
        "iris = datasets.load_iris()\n",
        "print(iris.DESCR)\n",
        "X = iris.data[:, [2,3]]\n",
        "y = iris.target\n",
        "print('클래스 레이블:', np.unique(y))"
      ],
      "metadata": {
        "colab": {
          "base_uri": "https://localhost:8080/"
        },
        "id": "n5d5-RJ4sqpr",
        "outputId": "5e3e787d-af59-469d-a95a-a9ef7dafbe16"
      },
      "execution_count": 3,
      "outputs": [
        {
          "output_type": "stream",
          "name": "stdout",
          "text": [
            ".. _iris_dataset:\n",
            "\n",
            "Iris plants dataset\n",
            "--------------------\n",
            "\n",
            "**Data Set Characteristics:**\n",
            "\n",
            "    :Number of Instances: 150 (50 in each of three classes)\n",
            "    :Number of Attributes: 4 numeric, predictive attributes and the class\n",
            "    :Attribute Information:\n",
            "        - sepal length in cm\n",
            "        - sepal width in cm\n",
            "        - petal length in cm\n",
            "        - petal width in cm\n",
            "        - class:\n",
            "                - Iris-Setosa\n",
            "                - Iris-Versicolour\n",
            "                - Iris-Virginica\n",
            "                \n",
            "    :Summary Statistics:\n",
            "\n",
            "    ============== ==== ==== ======= ===== ====================\n",
            "                    Min  Max   Mean    SD   Class Correlation\n",
            "    ============== ==== ==== ======= ===== ====================\n",
            "    sepal length:   4.3  7.9   5.84   0.83    0.7826\n",
            "    sepal width:    2.0  4.4   3.05   0.43   -0.4194\n",
            "    petal length:   1.0  6.9   3.76   1.76    0.9490  (high!)\n",
            "    petal width:    0.1  2.5   1.20   0.76    0.9565  (high!)\n",
            "    ============== ==== ==== ======= ===== ====================\n",
            "\n",
            "    :Missing Attribute Values: None\n",
            "    :Class Distribution: 33.3% for each of 3 classes.\n",
            "    :Creator: R.A. Fisher\n",
            "    :Donor: Michael Marshall (MARSHALL%PLU@io.arc.nasa.gov)\n",
            "    :Date: July, 1988\n",
            "\n",
            "The famous Iris database, first used by Sir R.A. Fisher. The dataset is taken\n",
            "from Fisher's paper. Note that it's the same as in R, but not as in the UCI\n",
            "Machine Learning Repository, which has two wrong data points.\n",
            "\n",
            "This is perhaps the best known database to be found in the\n",
            "pattern recognition literature.  Fisher's paper is a classic in the field and\n",
            "is referenced frequently to this day.  (See Duda & Hart, for example.)  The\n",
            "data set contains 3 classes of 50 instances each, where each class refers to a\n",
            "type of iris plant.  One class is linearly separable from the other 2; the\n",
            "latter are NOT linearly separable from each other.\n",
            "\n",
            ".. topic:: References\n",
            "\n",
            "   - Fisher, R.A. \"The use of multiple measurements in taxonomic problems\"\n",
            "     Annual Eugenics, 7, Part II, 179-188 (1936); also in \"Contributions to\n",
            "     Mathematical Statistics\" (John Wiley, NY, 1950).\n",
            "   - Duda, R.O., & Hart, P.E. (1973) Pattern Classification and Scene Analysis.\n",
            "     (Q327.D83) John Wiley & Sons.  ISBN 0-471-22361-1.  See page 218.\n",
            "   - Dasarathy, B.V. (1980) \"Nosing Around the Neighborhood: A New System\n",
            "     Structure and Classification Rule for Recognition in Partially Exposed\n",
            "     Environments\".  IEEE Transactions on Pattern Analysis and Machine\n",
            "     Intelligence, Vol. PAMI-2, No. 1, 67-71.\n",
            "   - Gates, G.W. (1972) \"The Reduced Nearest Neighbor Rule\".  IEEE Transactions\n",
            "     on Information Theory, May 1972, 431-433.\n",
            "   - See also: 1988 MLC Proceedings, 54-64.  Cheeseman et al\"s AUTOCLASS II\n",
            "     conceptual clustering system finds 3 classes in the data.\n",
            "   - Many, many more ...\n",
            "클래스 레이블: [0 1 2]\n"
          ]
        }
      ]
    },
    {
      "cell_type": "markdown",
      "source": [
        "# train test split\n",
        "\n",
        "- random_state : train test set을 분할하기전, 먼저 데이터셋을 섞는다\n",
        "\n",
        "- stratify : `train_test_split`함수가 훈련 데이터셋과 테스트 데이터셋의 클래스 레이블 비율을 입력 데이터셋과 동일하게 만들어줌"
      ],
      "metadata": {
        "id": "Q3Hp2qNlul5B"
      }
    },
    {
      "cell_type": "code",
      "source": [
        "from sklearn.model_selection import train_test_split\n",
        "X_train, X_test, y_train, y_test = train_test_split(\n",
        "    X, y, test_size = 0.3, random_state = 1, stratify = y\n",
        ")\n"
      ],
      "metadata": {
        "id": "mDIkISh6tBFA"
      },
      "execution_count": 4,
      "outputs": []
    },
    {
      "cell_type": "code",
      "source": [
        "# 계층화가 잘 되었는지 확인해보자\n",
        "\n",
        "print(\"y의 레이블 카운트:\",np.bincount(y))\n",
        "\n",
        "print(\"y_train의 레이블 카운트 : \", np.bincount(y_train))\n",
        "\n",
        "print(\"y_test의 레이블 카운트 : \", np.bincount(y_test))"
      ],
      "metadata": {
        "colab": {
          "base_uri": "https://localhost:8080/"
        },
        "id": "EMAe1S4_wR2r",
        "outputId": "ddde1cd8-a096-43d6-83c0-b08d40b8a209"
      },
      "execution_count": 5,
      "outputs": [
        {
          "output_type": "stream",
          "name": "stdout",
          "text": [
            "y의 레이블 카운트: [50 50 50]\n",
            "y_train의 레이블 카운트 :  [35 35 35]\n",
            "y_test의 레이블 카운트 :  [15 15 15]\n"
          ]
        }
      ]
    },
    {
      "cell_type": "markdown",
      "source": [
        "# Preprocessing"
      ],
      "metadata": {
        "id": "xzX1IpOawe9D"
      }
    },
    {
      "cell_type": "markdown",
      "source": [
        "## 표준화\n",
        "우리가 앞전에 손으로 진행했던 표준화를 사이킷런 `preprocessing` 모듈의 `StandardScaler` 클래스로 진행해보자"
      ],
      "metadata": {
        "id": "94aPyDrnGn9L"
      }
    },
    {
      "cell_type": "code",
      "source": [
        "# 기존에는 이런식으로 표준화 했었다\n",
        "X_std = np.copy(X)\n",
        "X_std[:,0] = ( X_std[:,0] - X_std[:,0].mean()) / X_std[:,0].std()\n",
        "X_std[:,1] = ( X_std[:,1] - X_std[:,1].mean()) / X_std[:,1].std()\n"
      ],
      "metadata": {
        "id": "rxU31N7qwc4K"
      },
      "execution_count": 6,
      "outputs": []
    },
    {
      "cell_type": "markdown",
      "source": [
        "* `StandardScaler` 의 `fit` 메서드는 훈련 데이터셋의 각 특성 차원마다 샘플평균과 표준편차를 계산함\n",
        "\n",
        "* `transform`메서드를 호출하면 계산된 샘플 평균과 표준 편차를 사용하여 훈련 데이터셋을 표준화시킴.\n"
      ],
      "metadata": {
        "id": "FXvCKdbJIHIU"
      }
    },
    {
      "cell_type": "code",
      "source": [
        "# 이제 이렇게 해보자\n",
        "from sklearn.preprocessing import StandardScaler\n",
        "sc = StandardScaler()\n",
        "sc.fit(X_train)\n",
        "X_train_std = sc.transform(X_train)\n",
        "X_test_std = sc.transform(X_test)"
      ],
      "metadata": {
        "id": "j0lvbeYcHyOJ"
      },
      "execution_count": 7,
      "outputs": []
    },
    {
      "cell_type": "markdown",
      "source": [
        "# 훈련\n",
        "\n",
        "사이킷럿의 알고리즘은 대부분 기본적으로 OvR(one-versus-Rest) 방식을 사용하여 다중 분류 (multiclass classification) 을 지원함."
      ],
      "metadata": {
        "id": "W_yxZUlQInRO"
      }
    },
    {
      "cell_type": "code",
      "source": [
        "# 사이킷런 퍼셉트론 인스턴스를 생성하고 훈련해보자\n",
        "from sklearn.linear_model import Perceptron\n",
        "ppn = Perceptron(eta0 = 0.1, random_state = 1)\n",
        "ppn.fit(X_train_std, y_train)"
      ],
      "metadata": {
        "id": "7ZwRx86fH_9Z",
        "colab": {
          "base_uri": "https://localhost:8080/",
          "height": 75
        },
        "outputId": "75dc11d4-35e9-4bb8-f30b-ad1675f5892e"
      },
      "execution_count": 10,
      "outputs": [
        {
          "output_type": "execute_result",
          "data": {
            "text/plain": [
              "Perceptron(eta0=0.1, random_state=1)"
            ],
            "text/html": [
              "<style>#sk-container-id-2 {color: black;background-color: white;}#sk-container-id-2 pre{padding: 0;}#sk-container-id-2 div.sk-toggleable {background-color: white;}#sk-container-id-2 label.sk-toggleable__label {cursor: pointer;display: block;width: 100%;margin-bottom: 0;padding: 0.3em;box-sizing: border-box;text-align: center;}#sk-container-id-2 label.sk-toggleable__label-arrow:before {content: \"▸\";float: left;margin-right: 0.25em;color: #696969;}#sk-container-id-2 label.sk-toggleable__label-arrow:hover:before {color: black;}#sk-container-id-2 div.sk-estimator:hover label.sk-toggleable__label-arrow:before {color: black;}#sk-container-id-2 div.sk-toggleable__content {max-height: 0;max-width: 0;overflow: hidden;text-align: left;background-color: #f0f8ff;}#sk-container-id-2 div.sk-toggleable__content pre {margin: 0.2em;color: black;border-radius: 0.25em;background-color: #f0f8ff;}#sk-container-id-2 input.sk-toggleable__control:checked~div.sk-toggleable__content {max-height: 200px;max-width: 100%;overflow: auto;}#sk-container-id-2 input.sk-toggleable__control:checked~label.sk-toggleable__label-arrow:before {content: \"▾\";}#sk-container-id-2 div.sk-estimator input.sk-toggleable__control:checked~label.sk-toggleable__label {background-color: #d4ebff;}#sk-container-id-2 div.sk-label input.sk-toggleable__control:checked~label.sk-toggleable__label {background-color: #d4ebff;}#sk-container-id-2 input.sk-hidden--visually {border: 0;clip: rect(1px 1px 1px 1px);clip: rect(1px, 1px, 1px, 1px);height: 1px;margin: -1px;overflow: hidden;padding: 0;position: absolute;width: 1px;}#sk-container-id-2 div.sk-estimator {font-family: monospace;background-color: #f0f8ff;border: 1px dotted black;border-radius: 0.25em;box-sizing: border-box;margin-bottom: 0.5em;}#sk-container-id-2 div.sk-estimator:hover {background-color: #d4ebff;}#sk-container-id-2 div.sk-parallel-item::after {content: \"\";width: 100%;border-bottom: 1px solid gray;flex-grow: 1;}#sk-container-id-2 div.sk-label:hover label.sk-toggleable__label {background-color: #d4ebff;}#sk-container-id-2 div.sk-serial::before {content: \"\";position: absolute;border-left: 1px solid gray;box-sizing: border-box;top: 0;bottom: 0;left: 50%;z-index: 0;}#sk-container-id-2 div.sk-serial {display: flex;flex-direction: column;align-items: center;background-color: white;padding-right: 0.2em;padding-left: 0.2em;position: relative;}#sk-container-id-2 div.sk-item {position: relative;z-index: 1;}#sk-container-id-2 div.sk-parallel {display: flex;align-items: stretch;justify-content: center;background-color: white;position: relative;}#sk-container-id-2 div.sk-item::before, #sk-container-id-2 div.sk-parallel-item::before {content: \"\";position: absolute;border-left: 1px solid gray;box-sizing: border-box;top: 0;bottom: 0;left: 50%;z-index: -1;}#sk-container-id-2 div.sk-parallel-item {display: flex;flex-direction: column;z-index: 1;position: relative;background-color: white;}#sk-container-id-2 div.sk-parallel-item:first-child::after {align-self: flex-end;width: 50%;}#sk-container-id-2 div.sk-parallel-item:last-child::after {align-self: flex-start;width: 50%;}#sk-container-id-2 div.sk-parallel-item:only-child::after {width: 0;}#sk-container-id-2 div.sk-dashed-wrapped {border: 1px dashed gray;margin: 0 0.4em 0.5em 0.4em;box-sizing: border-box;padding-bottom: 0.4em;background-color: white;}#sk-container-id-2 div.sk-label label {font-family: monospace;font-weight: bold;display: inline-block;line-height: 1.2em;}#sk-container-id-2 div.sk-label-container {text-align: center;}#sk-container-id-2 div.sk-container {/* jupyter's `normalize.less` sets `[hidden] { display: none; }` but bootstrap.min.css set `[hidden] { display: none !important; }` so we also need the `!important` here to be able to override the default hidden behavior on the sphinx rendered scikit-learn.org. See: https://github.com/scikit-learn/scikit-learn/issues/21755 */display: inline-block !important;position: relative;}#sk-container-id-2 div.sk-text-repr-fallback {display: none;}</style><div id=\"sk-container-id-2\" class=\"sk-top-container\"><div class=\"sk-text-repr-fallback\"><pre>Perceptron(eta0=0.1, random_state=1)</pre><b>In a Jupyter environment, please rerun this cell to show the HTML representation or trust the notebook. <br />On GitHub, the HTML representation is unable to render, please try loading this page with nbviewer.org.</b></div><div class=\"sk-container\" hidden><div class=\"sk-item\"><div class=\"sk-estimator sk-toggleable\"><input class=\"sk-toggleable__control sk-hidden--visually\" id=\"sk-estimator-id-2\" type=\"checkbox\" checked><label for=\"sk-estimator-id-2\" class=\"sk-toggleable__label sk-toggleable__label-arrow\">Perceptron</label><div class=\"sk-toggleable__content\"><pre>Perceptron(eta0=0.1, random_state=1)</pre></div></div></div></div></div>"
            ]
          },
          "metadata": {},
          "execution_count": 10
        }
      ]
    },
    {
      "cell_type": "code",
      "source": [
        "# 예측해보자\n",
        "y_pred = ppn.predict(X_test_std)\n",
        "\n",
        "# 잘못 분류된 샘플의 개수를 출력해보자\n",
        "print('잘못 분류된 샘플 개수 : %d ' % (y_test != y_pred).sum())"
      ],
      "metadata": {
        "colab": {
          "base_uri": "https://localhost:8080/"
        },
        "id": "aLIPmjphvARs",
        "outputId": "7edc82f4-5503-4703-91f7-62d16243b44e"
      },
      "execution_count": 12,
      "outputs": [
        {
          "output_type": "stream",
          "name": "stdout",
          "text": [
            "잘못 분류된 샘플 개수 : 1 \n"
          ]
        }
      ]
    },
    {
      "cell_type": "markdown",
      "source": [
        "## 분류 오차 vs 정확도\n",
        "45개의 샘플에서 한개를 잘못 분류했기 때문에, 테스트 데이터셋에 대한 분류 오차는 약 0.022 (혹은 2.2%) 이다.\n",
        "\n",
        "* 분류 오차 대신 많은 머신 러닝 기술자들이 모델의 분류 **정확도**(accuracy) 를 계산함.\n",
        "1 - 오차 = 정확도"
      ],
      "metadata": {
        "id": "GZXJqZLbvmuP"
      }
    },
    {
      "cell_type": "markdown",
      "source": [
        "## metrics 모듈\n",
        "사이킷런 라이브러리는 metrics 모듈 아래에 다양한 성능 지표를 구현해 놓음.\n",
        "예를 들어 테스트셋에서 퍼셉트론의 분류 정확도는 아래와 같음"
      ],
      "metadata": {
        "id": "Pc9VdZ3dv84n"
      }
    },
    {
      "cell_type": "code",
      "source": [
        "from sklearn.metrics import accuracy_score\n",
        "print('정확도: %.3f' % accuracy_score(y_test, y_pred))"
      ],
      "metadata": {
        "colab": {
          "base_uri": "https://localhost:8080/"
        },
        "id": "UDDjTiDMvWvY",
        "outputId": "d3814b9e-96b6-4fda-cb7e-4d4cfd598e12"
      },
      "execution_count": 13,
      "outputs": [
        {
          "output_type": "stream",
          "name": "stdout",
          "text": [
            "정확도: 0.978\n"
          ]
        }
      ]
    },
    {
      "cell_type": "code",
      "source": [
        "# 이를 metrics 모듈을 사용하지 않고, 사이킷런의 분류기(classifier) 자체로 얻을 수 있다\n",
        "# 단, classifier가 이미 훈련된 상태여야겠지\n",
        "print('정확도: %.3f' % ppn.score(X_test_std, y_test))\n",
        "\n",
        "# 단, 이 score 메서드는 accuracy_score 메서드를 연결하여 정확도를 계산하므로, 미리 import는 해두어야 하는 것 같다."
      ],
      "metadata": {
        "colab": {
          "base_uri": "https://localhost:8080/"
        },
        "id": "QnIfRsdZwPjc",
        "outputId": "85b4e2a9-5f83-4327-987d-474abb3c0ed1"
      },
      "execution_count": 15,
      "outputs": [
        {
          "output_type": "stream",
          "name": "stdout",
          "text": [
            "정확도: 0.978\n"
          ]
        }
      ]
    },
    {
      "cell_type": "markdown",
      "source": [
        "# drawing!\n",
        "\n",
        "마지막으로 `plot_decision_boundary` 함수를 이용해서 새로운 퍼셉트론 모델의 결정 경계를 그려서 세 개의 붓꽃 샘플을 잘 구분하는지 '시각화' 해보자.\n",
        "저번과는 살짝 다르게, 테스트 데이터셋의 샘플을 작은 원으로 다르게 표시해보자\n"
      ],
      "metadata": {
        "id": "PBVBiQk4wsoL"
      }
    },
    {
      "cell_type": "code",
      "source": [
        "from utils.plot_decision_regions import plot_decision_boundary\n",
        "# ppn 이 표준화시킨 데이터를 가지고 훈련했으므로, X 가 아닌 X_std를 넣어줘야 한다.\n",
        "X_combined_std = np.vstack((X_train_std, X_test_std))\n",
        "y_combined_std = np.hstack((y_train, y_test))\n",
        "plot_decision_boundary(X_combined_std, y_combined_std, ppn, range(105,150)) # 테스트 데이터의 개수는 45개이고, 총 데이터 개수는 150개이므로\n",
        "plt.xlabel('Petal length [standardized]')\n",
        "plt.ylabel('Petal width [standardized]')\n",
        "plt.legend(loc = 'upper left')\n",
        "plt.tight_layout()\n",
        "plt.show()\n"
      ],
      "metadata": {
        "colab": {
          "base_uri": "https://localhost:8080/",
          "height": 487
        },
        "id": "KMAGnPzkwf36",
        "outputId": "de3caef4-3ef2-4258-c70c-bb303d6d0fb9"
      },
      "execution_count": 28,
      "outputs": [
        {
          "output_type": "display_data",
          "data": {
            "text/plain": [
              "<Figure size 640x480 with 1 Axes>"
            ],
            "image/png": "[encoded data removed]"
          },
          "metadata": {}
        }
      ]
    },
    {
      "cell_type": "markdown",
      "source": [
        "## 추가적인 퍼셉트론 설정\n",
        "Perceptron은 물론 사이킷런의 함수나 클래스는 많은 매개변수를 가지고 있음\n",
        "* Perceptron 클래스는 `SGDClassifier(loss = 'perceptron')` 과 거의 같음. loss를 제외하고 SGDClassifier에 있는 거의 모든 매개변수를 지원함. 하지만 클래스 분류 확률을 제공하는 `predict_prob()`, `predict_log_prob()` 메서드는 지원하지 않음.  \n",
        "\n",
        "`help(Perceptron))` 을 통해 매개변수에 대한 상세 내용을 볼 수 있음.  \n",
        "혹은 http://scikit-learn.org/stable/ 을 참고하자"
      ],
      "metadata": {
        "id": "oHFJnMI_1BWM"
      }
    },
    {
      "cell_type": "code",
      "source": [],
      "metadata": {
        "id": "UvuL0c7360jS"
      },
      "execution_count": null,
      "outputs": []
    }
  ]
}