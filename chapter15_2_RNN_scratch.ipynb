{
  "nbformat": 4,
  "nbformat_minor": 0,
  "metadata": {
    "colab": {
      "provenance": [],
      "authorship_tag": "ABX9TyNX8TNMigUPBK12ZDSEVOPM",
      "include_colab_link": true
    },
    "kernelspec": {
      "name": "python3",
      "display_name": "Python 3"
    },
    "language_info": {
      "name": "python"
    }
  },
  "cells": [
    {
      "cell_type": "markdown",
      "metadata": {
        "id": "view-in-github",
        "colab_type": "text"
      },
      "source": [
        "<a href=\"https://colab.research.google.com/github/hws2002/MachineLearning_PytorchNScikitLearn/blob/master/chapter15_2_RNN_scratch.ipynb\" target=\"_parent\"><img src=\"https://colab.research.google.com/assets/colab-badge.svg\" alt=\"Open In Colab\"/></a>"
      ]
    },
    {
      "cell_type": "markdown",
      "source": [
        "# 15.2 시퀀스 모델링을 위한 RNN\n"
      ],
      "metadata": {
        "id": "70Q8SW6ukgSl"
      }
    },
    {
      "cell_type": "markdown",
      "source": [
        "실제로 어떻게 동작하는지 보기 위해 은닉-은닉 순환의 정방향 계산을 수동으로 수행해 보자.  \n",
        "torch.nn모듈의 RNN클래스로 순환 층을 만들고 길이가 3인 입력 시퀀스에서 정방향 계산을 수행하여 출력을 만들자.  \n",
        "그 후 수동으로 정방향 계산을 수행하여 RNN의 결과와 비교해 보자"
      ],
      "metadata": {
        "id": "D5TQSb-MklhN"
      }
    },
    {
      "cell_type": "code",
      "execution_count": 1,
      "metadata": {
        "colab": {
          "base_uri": "https://localhost:8080/"
        },
        "id": "7MfLOH7nkYU_",
        "outputId": "41dc6c0d-4934-40ff-ecf3-d715f1f5504f"
      },
      "outputs": [
        {
          "output_type": "execute_result",
          "data": {
            "text/plain": [
              "RNN(5, 2, batch_first=True)"
            ]
          },
          "metadata": {},
          "execution_count": 1
        }
      ],
      "source": [
        "import torch\n",
        "import torch.nn as nn\n",
        "torch.manual_seed(1)\n",
        "rnn_layer = nn.RNN(input_size = 5, hidden_size = 2, num_layers = 1, batch_first  = True)\n",
        "# batch_first 를 True로 지정했기 때문에, 입력 크기는 (batch_size, sequence_length, 5)가 된다\n",
        "# 이중 5는 input_size가 5이기 때문이다\n",
        "# 여러 개의 RNN 층을 쌓으려면 num_layers 매개변수를 1 이상으로 지정하면 된다.\n",
        "rnn_layer"
      ]
    },
    {
      "cell_type": "code",
      "source": [
        "w_xh = rnn_layer.weight_ih_l0\n",
        "w_hh = rnn_layer.weight_hh_l0\n",
        "b_xh = rnn_layer.bias_ih_l0\n",
        "b_hh = rnn_layer.bias_hh_l0\n",
        "\n",
        "print('W_xh 크기:', w_xh.shape)\n",
        "print('W_hh 크기:', w_hh.shape)\n",
        "print('b_xh 크기:', b_xh.shape)\n",
        "print('b_xh 크기:', b_hh.shape)\n"
      ],
      "metadata": {
        "colab": {
          "base_uri": "https://localhost:8080/"
        },
        "id": "B2Zu4lY_lvRP",
        "outputId": "be9e391c-ba6d-4d4f-cb45-7ae96433e1fd"
      },
      "execution_count": 2,
      "outputs": [
        {
          "output_type": "stream",
          "name": "stdout",
          "text": [
            "W_xh 크기: torch.Size([2, 5])\n",
            "W_hh 크기: torch.Size([2, 2])\n",
            "b_xh 크기: torch.Size([2])\n",
            "b_xh 크기: torch.Size([2])\n"
          ]
        }
      ]
    },
    {
      "cell_type": "code",
      "source": [
        "# rnn_layer의 정방향 계산을 수행하고 각 타임 스텝에서 수동으로 출력을 계산하여 비교해 보자\n",
        "x_seq = torch.tensor([\n",
        "  [1.0]*5,\n",
        "  [2.0]*5,\n",
        "  [3.0]*5\n",
        "]).float()\n",
        "\n",
        "# 간단한 RNN의 출력\n",
        "output, hn = rnn_layer(torch.reshape(x_seq,(1,3,5)))\n",
        "out_man = []\n",
        "\n",
        "# 수동으로 출력 계산하기:\n",
        "for t in range(3):\n",
        "  xt = torch.reshape(x_seq[t], (1,5))\n",
        "  print(f'타임 스탭 {t} =>')\n",
        "  print('   입력          :', xt.numpy())\n",
        "\n",
        "  ht = torch.matmul(xt, torch.transpose(w_xh,0,1)) + b_xh # w_xh의 첫번째 차원과 두번째 차원을 교환\n",
        "  print('   은닉          :', ht.detach().numpy())\n",
        "  if t > 0:\n",
        "    prev_h = out_man[t-1]\n",
        "  else :\n",
        "    prev_h = torch.zeros((ht.shape))\n",
        "  ot = ht + torch.matmul( prev_h, torch.transpose(w_hh,0,1)) + b_hh\n",
        "  ot = torch.tanh(ot) # RNN에서 기본값으로 하이퍼볼릭 탄젠트 활성화 함수를 씀. RNN의 nonlinearity 매개변수로 다른 활성화 함수를 지정할 수 있음\n",
        "  out_man.append(ot)\n",
        "  print(' 출력 (수동) : ', ot.detach().numpy())\n",
        "  print(' RNN 출력  :', output[:,t].detach().numpy())\n",
        "  print()"
      ],
      "metadata": {
        "colab": {
          "base_uri": "https://localhost:8080/"
        },
        "id": "PFPweSywmCC3",
        "outputId": "1336dd42-8a16-4c8d-e2c5-ad062185e87a"
      },
      "execution_count": 5,
      "outputs": [
        {
          "output_type": "stream",
          "name": "stdout",
          "text": [
            "타임 스탭 0 =>\n",
            "   입력          : [[1. 1. 1. 1. 1.]]\n",
            "   은닉          : [[-0.4701929   0.58639044]]\n",
            " 출력 (수동) :  [[-0.3519801   0.52525216]]\n",
            " RNN 출력  : [[-0.3519801   0.52525216]]\n",
            "\n",
            "타임 스탭 1 =>\n",
            "   입력          : [[2. 2. 2. 2. 2.]]\n",
            "   은닉          : [[-0.88883156  1.2364398 ]]\n",
            " 출력 (수동) :  [[-0.68424344  0.76074266]]\n",
            " RNN 출력  : [[-0.68424344  0.76074266]]\n",
            "\n",
            "타임 스탭 2 =>\n",
            "   입력          : [[3. 3. 3. 3. 3.]]\n",
            "   은닉          : [[-1.3074702  1.8864892]]\n",
            " 출력 (수동) :  [[-0.8649416  0.9046636]]\n",
            " RNN 출력  : [[-0.8649416  0.9046636]]\n",
            "\n"
          ]
        }
      ]
    },
    {
      "cell_type": "code",
      "source": [],
      "metadata": {
        "id": "kmOeVpJaoRGW"
      },
      "execution_count": null,
      "outputs": []
    }
  ]
}