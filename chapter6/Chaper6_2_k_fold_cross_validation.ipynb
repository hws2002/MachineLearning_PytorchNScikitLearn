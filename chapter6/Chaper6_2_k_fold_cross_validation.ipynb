{
  "nbformat": 4,
  "nbformat_minor": 0,
  "metadata": {
    "colab": {
      "provenance": [],
      "authorship_tag": "ABX9TyNuS7iXJOH+jeWukuHNEpuO",
      "include_colab_link": true
    },
    "kernelspec": {
      "name": "python3",
      "display_name": "Python 3"
    },
    "language_info": {
      "name": "python"
    }
  },
  "cells": [
    {
      "cell_type": "markdown",
      "metadata": {
        "id": "view-in-github",
        "colab_type": "text"
      },
      "source": [
        "<a href=\"https://colab.research.google.com/github/hws2002/MachineLearning_PytorchNScikitLearn/blob/master/chapter6/Chaper6_2_k_fold_cross_validation.ipynb\" target=\"_parent\"><img src=\"https://colab.research.google.com/assets/colab-badge.svg\" alt=\"Open In Colab\"/></a>"
      ]
    },
    {
      "cell_type": "markdown",
      "source": [
        "# 6.2 k-겹 교차 검증을 사용한 모델 성능 평가\n",
        "이 절에서는 보편적인 교차 검증 기법인 홀드아웃 방법과 k-겹 교차 검증을 배워보자.  \n",
        "이런 방법들은 모델의 일반화 성능, 즉 처음 본 데이터에 모델이 얼마나 잘 작동하는지 신뢰할 만한 추정을 하도록 도와줌"
      ],
      "metadata": {
        "id": "B8nOBg8IuR62"
      }
    },
    {
      "cell_type": "markdown",
      "source": [
        "## 6.2.1 홀드아웃 방법"
      ],
      "metadata": {
        "id": "6mjQw3yTu05Z"
      }
    },
    {
      "cell_type": "markdown",
      "source": [
        "## 6.2.2 k-겹 교차 검증\n",
        "k-겹 교차 검증에서는 중복을 허용하지 않고 훈련 데이터셋을 k개의 폴드(fold)로 랜덤하게 나눔  \n",
        "\n",
        "k-1개의 폴드( 이를 훈련 폴드라고 함) 로 모델을 훈련하고 나머지 하나의 폴드( 이를 테스트 폴드라고 함) 로 성능을 평가.  \n",
        "\n",
        "그 다음 서로 다른 독립적인 폴드에서 얻은 성능 추정을 기반으로 모델의 평균 성능을 계산.  \n",
        "\n",
        "홀드아웃 방법에 비해 훈련 데이터셋의 분할에 덜 민감한 성능 추정을 얻을 수 있음.  \n",
        "\n",
        "일반적으로 모델 튜닝에 k-겹 교차 검증을 사용함.( 즉, 테스트 데이터셋에서 모델의 성능을 평가할 때 만족할 만한 일반화 성능을 내는 최적의 하이퍼파라미터 값을 찾기 위해 사용)"
      ],
      "metadata": {
        "id": "mzfVtRY9u2iB"
      }
    },
    {
      "cell_type": "code",
      "source": [
        "import pandas as pd\n",
        "df = pd.read_csv(\n",
        "    'https://archive.ics.uci.edu/ml/machine-learning-databases/breast-cancer-wisconsin/wdbc.data',\n",
        "    header = None\n",
        ")\n",
        "df.columns = [\n",
        "    'ID',\n",
        "    'Diagnosis',\n",
        "    'radius1', 'texture1', 'perimeter1', 'area1', 'smoothness1', 'compactness1', 'concavity1', 'concave_points1', 'symmetry1', 'fractal_dimension1',\n",
        "    'radius2', 'texture2', 'perimeter2', 'area2', 'smoothness2', 'compactness2', 'concavity2', 'concave_points2', 'symmetry2', 'fractal_dimension2',\n",
        "    'radius3', 'texture3', 'perimeter3', 'area3', 'smoothness3', 'compactness3', 'concavity3', 'concave_points3', 'symmetry3', 'fractal_dimension3'\n",
        "]\n",
        "X, y = df.iloc[:,2:].values , df.iloc[:,1].values\n"
      ],
      "metadata": {
        "id": "16xH_--Bzv5M"
      },
      "execution_count": 9,
      "outputs": []
    },
    {
      "cell_type": "code",
      "source": [
        "from sklearn.preprocessing import LabelEncoder\n",
        "le = LabelEncoder()\n",
        "y = le.fit_transform(y)\n",
        "print(le.classes_)\n",
        "print(y)"
      ],
      "metadata": {
        "colab": {
          "base_uri": "https://localhost:8080/"
        },
        "id": "onr1BAz_z1M7",
        "outputId": "03a8a109-d5b7-448d-cdca-0f660cab2032"
      },
      "execution_count": 10,
      "outputs": [
        {
          "output_type": "stream",
          "name": "stdout",
          "text": [
            "['B' 'M']\n",
            "[1 1 1 1 1 1 1 1 1 1 1 1 1 1 1 1 1 1 1 0 0 0 1 1 1 1 1 1 1 1 1 1 1 1 1 1 1\n",
            " 0 1 1 1 1 1 1 1 1 0 1 0 0 0 0 0 1 1 0 1 1 0 0 0 0 1 0 1 1 0 0 0 0 1 0 1 1\n",
            " 0 1 0 1 1 0 0 0 1 1 0 1 1 1 0 0 0 1 0 0 1 1 0 0 0 1 1 0 0 0 0 1 0 0 1 0 0\n",
            " 0 0 0 0 0 0 1 1 1 0 1 1 0 0 0 1 1 0 1 0 1 1 0 1 1 0 0 1 0 0 1 0 0 0 0 1 0\n",
            " 0 0 0 0 0 0 0 0 1 0 0 0 0 1 1 0 1 0 0 1 1 0 0 1 1 0 0 0 0 1 0 0 1 1 1 0 1\n",
            " 0 1 0 0 0 1 0 0 1 1 0 1 1 1 1 0 1 1 1 0 1 0 1 0 0 1 0 1 1 1 1 0 0 1 1 0 0\n",
            " 0 1 0 0 0 0 0 1 1 0 0 1 0 0 1 1 0 1 0 0 0 0 1 0 0 0 0 0 1 0 1 1 1 1 1 1 1\n",
            " 1 1 1 1 1 1 1 0 0 0 0 0 0 1 0 1 0 0 1 0 0 1 0 1 1 0 0 0 0 0 0 0 0 0 0 0 0\n",
            " 0 1 0 0 1 0 1 0 0 0 0 0 0 0 0 0 0 0 0 0 0 1 0 0 0 1 0 1 0 0 0 0 1 1 1 0 0\n",
            " 0 0 1 0 1 0 1 0 0 0 1 0 0 0 0 0 0 0 1 1 1 0 0 0 0 0 0 0 0 0 0 0 1 1 0 1 1\n",
            " 1 0 1 1 0 0 0 0 0 1 0 0 0 0 0 1 0 0 0 1 0 0 1 1 0 0 0 0 0 0 1 0 0 0 0 0 0\n",
            " 0 1 0 0 0 0 0 1 0 0 1 0 0 0 0 0 0 0 0 0 0 0 0 1 0 1 1 0 1 0 0 0 0 0 1 0 0\n",
            " 1 0 1 0 0 1 0 1 0 0 0 0 0 0 0 0 1 1 0 0 0 0 0 0 1 0 0 0 0 0 0 0 0 0 0 1 0\n",
            " 0 0 0 0 0 0 1 0 1 0 0 1 0 0 0 0 0 1 1 0 1 0 1 0 0 0 0 0 1 0 0 1 0 1 0 1 1\n",
            " 0 0 0 1 0 0 0 0 0 0 0 0 0 0 0 1 0 1 1 0 0 0 0 0 0 0 0 0 0 0 0 0 0 0 0 0 0\n",
            " 0 0 0 0 0 0 0 1 1 1 1 1 1 0]\n"
          ]
        }
      ]
    },
    {
      "cell_type": "code",
      "source": [
        "import numpy as np\n",
        "from sklearn.model_selection import train_test_split\n",
        "X_train, X_test, y_train, y_test = train_test_split(X,y, test_size = 0.2, stratify = y, random_state = 1)\n",
        "y_train_bc = np.bincount(y_train)\n",
        "print(y_train_bc)\n",
        "print(f'ratio : {y_train_bc[0]/ y_train_bc.sum() :.3f} , {y_train_bc[1] / y_train_bc.sum() :.3f}')"
      ],
      "metadata": {
        "colab": {
          "base_uri": "https://localhost:8080/"
        },
        "id": "QCN718PV0ZN9",
        "outputId": "7e1e4d7f-df04-431d-fd75-581af04a1ef5"
      },
      "execution_count": 13,
      "outputs": [
        {
          "output_type": "stream",
          "name": "stdout",
          "text": [
            "[285 170]\n",
            "ratio : 0.626 , 0.374\n"
          ]
        }
      ]
    },
    {
      "cell_type": "code",
      "source": [
        "from sklearn.pipeline import make_pipeline\n",
        "from sklearn.preprocessing import StandardScaler\n",
        "# sc = StandardScaler()\n",
        "# X_train_std = sc.fit_transform(X_train)\n",
        "# X_test_std = sc.transform(X_test)\n",
        "from sklearn.decomposition import PCA\n",
        "# pca = PCA(n_components = 2)\n",
        "# X_train_pca = pca.fit_transform(X_train_std)\n",
        "# X_test_std = pca.transform(X_test_std)\n",
        "\n",
        "from sklearn.linear_model import LogisticRegression\n",
        "# lr = LogisticRegression(multi_class = 'ovr',\n",
        "                        #  random_state = 1,\n",
        "                        #  solver = 'lbfgs')\n",
        "pipe_lr = make_pipeline(StandardScaler(),\n",
        "                        PCA(n_components=2),\n",
        "                        LogisticRegression(random_state = 1))"
      ],
      "metadata": {
        "id": "5U3jZgit0a0c"
      },
      "execution_count": 17,
      "outputs": []
    },
    {
      "cell_type": "code",
      "execution_count": 21,
      "metadata": {
        "colab": {
          "base_uri": "https://localhost:8080/"
        },
        "id": "3swJ-CQSuNTe",
        "outputId": "037bbc5b-a430-43f5-fd81-d5fedafb9dc2"
      },
      "outputs": [
        {
          "output_type": "stream",
          "name": "stdout",
          "text": [
            "폴드 :  1, 클래스 분포 : [256 153], 클래스 비율 : (0.626 , 0.374), 정확도: 0.935\n",
            "폴드 :  2, 클래스 분포 : [256 153], 클래스 비율 : (0.626 , 0.374), 정확도: 0.935\n",
            "폴드 :  3, 클래스 분포 : [256 153], 클래스 비율 : (0.626 , 0.374), 정확도: 0.957\n",
            "폴드 :  4, 클래스 분포 : [256 153], 클래스 비율 : (0.626 , 0.374), 정확도: 0.957\n",
            "폴드 :  5, 클래스 분포 : [256 153], 클래스 비율 : (0.626 , 0.374), 정확도: 0.935\n",
            "폴드 :  6, 클래스 분포 : [257 153], 클래스 비율 : (0.627 , 0.373), 정확도: 0.956\n",
            "폴드 :  7, 클래스 분포 : [257 153], 클래스 비율 : (0.627 , 0.373), 정확도: 0.978\n",
            "폴드 :  8, 클래스 분포 : [257 153], 클래스 비율 : (0.627 , 0.373), 정확도: 0.933\n",
            "폴드 :  9, 클래스 분포 : [257 153], 클래스 비율 : (0.627 , 0.373), 정확도: 0.956\n",
            "폴드 : 10, 클래스 분포 : [257 153], 클래스 비율 : (0.627 , 0.373), 정확도: 0.956\n"
          ]
        }
      ],
      "source": [
        "from sklearn.model_selection import StratifiedKFold\n",
        "kfold = StratifiedKFold(n_splits = 10).split(X_train,y_train)\n",
        "scores = []\n",
        "for k, (train,test) in enumerate(kfold):\n",
        "  pipe_lr.fit(X_train[train], y_train[train])\n",
        "  score = pipe_lr.score( X_train[test], y_train[test])\n",
        "  scores.append(score)\n",
        "  y_train_bc = np.bincount(y_train[train])\n",
        "  print(f'폴드 : {k+1:2d}, '\n",
        "        f'클래스 분포 : {np.bincount(y_train[train])}, '\n",
        "        f'클래스 비율 : ({y_train_bc[0]/ y_train_bc.sum() :.3f} , {y_train_bc[1] / y_train_bc.sum() :.3f}), '\n",
        "        f'정확도: {score:.3f}')\n"
      ]
    },
    {
      "cell_type": "code",
      "source": [
        "mean_acc = np.mean(scores)\n",
        "std_acc = np.std(scores)\n",
        "print(f'\\nCV 정확도 : {mean_acc:.3f} +/- {std_acc:.3f}')"
      ],
      "metadata": {
        "colab": {
          "base_uri": "https://localhost:8080/"
        },
        "id": "RZyP7S1mzlTW",
        "outputId": "d7e81b39-b061-4002-f92d-d766abe4d7c9"
      },
      "execution_count": 23,
      "outputs": [
        {
          "output_type": "stream",
          "name": "stdout",
          "text": [
            "\n",
            "CV 정확도 : 0.950 +/- 0.014\n"
          ]
        }
      ]
    },
    {
      "cell_type": "code",
      "source": [
        "# 사이킷런의 k-겹 교차 검증 함수를 활용해도 됨\n",
        "from sklearn.model_selection import cross_val_score\n",
        "scores = cross_val_score(estimator = pipe_lr,\n",
        "                         X = X_train,\n",
        "                         y = y_train,\n",
        "                         cv = 10,\n",
        "                         n_jobs = 1 # 사용할 CPU 코어 개수\n",
        "                        )\n",
        "print(f'CV 정확도 점수 : {scores}')\n",
        "\n",
        "print(f'CV 정확도 : {np.mean(scores):.3f}'\n",
        "      f'+/- {np.std(scores):.3f}')"
      ],
      "metadata": {
        "colab": {
          "base_uri": "https://localhost:8080/"
        },
        "id": "9AkQtu6u2ZPE",
        "outputId": "524aa844-f2d9-4b16-f24f-d1ce6aac3f51"
      },
      "execution_count": 24,
      "outputs": [
        {
          "output_type": "stream",
          "name": "stdout",
          "text": [
            "CV 정확도 점수 : [0.93478261 0.93478261 0.95652174 0.95652174 0.93478261 0.95555556\n",
            " 0.97777778 0.93333333 0.95555556 0.95555556]\n",
            "CV 정확도 : 0.950+/- 0.014\n"
          ]
        }
      ]
    }
  ]
}